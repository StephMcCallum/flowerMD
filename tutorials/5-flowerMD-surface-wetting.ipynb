{
 "cells": [
  {
   "cell_type": "markdown",
   "source": [
    "# Running a Surface wetting Workflow with flowerMD"
   ],
   "metadata": {
    "collapsed": false
   }
  },
  {
   "cell_type": "markdown",
   "source": [
    "## Overview:\n",
    "\n",
    "This notebook demonstrates how to run a surface wetting workflow with flowerMD. For demonstration purposes, we will create a Poly(ethylene) droplet on a graphene surface. The workflow consists of the following steps:\n",
    "\n",
    "1. Create a droplet of the polymer melt\n",
    "2. Create a graphene surface\n",
    "3. Combine the droplet and surface into a single system\n",
    "4. Run wetting simulation"
   ],
   "metadata": {
    "collapsed": false
   }
  },
  {
   "cell_type": "markdown",
   "source": [
    "## Step 1: Create a droplet\n",
    "\n",
    "Let's start by creating a Poly(ethylene) droplet. We will use the `PolyEthylene` class from the `flowermd.library.polymers` module to create a Poly(ethylene) melt. We will then use the `Pack` class from the `flowermd.base.system` module to create the system."
   ],
   "metadata": {
    "collapsed": false
   }
  },
  {
   "cell_type": "code",
   "execution_count": 2,
   "outputs": [],
   "source": [
    " import warnings\n",
    "\n",
    "warnings.filterwarnings('ignore')"
   ],
   "metadata": {
    "collapsed": false
   }
  },
  {
   "cell_type": "code",
   "execution_count": 3,
   "id": "03fb3c31-28c5-4520-a85e-b9828f20c2e4",
   "metadata": {},
   "outputs": [],
   "source": [
    "from flowermd.base.system import Pack\n",
    "from flowermd.library.polymers import PolyEthylene\n",
    "from flowermd.library.forcefields import OPLS_AA"
   ]
  },
  {
   "cell_type": "code",
   "execution_count": 4,
   "id": "620ce655-2c44-43a8-9a7a-2cedc148ff99",
   "metadata": {
    "scrolled": true
   },
   "outputs": [
    {
     "name": "stdout",
     "output_type": "stream",
     "text": [
      "No charged group detected, skipping electrostatics.\n"
     ]
    }
   ],
   "source": [
    "polyethylene = PolyEthylene(num_mols=70, lengths=25)\n",
    "droplet_system = Pack(molecules=polyethylene, density=1.0)\n",
    "droplet_system.apply_forcefield(force_field=OPLS_AA(), remove_charges=True,\n",
    "                                remove_hydrogens=True, auto_scale=True,\n",
    "                                r_cut=2.5)"
   ]
  },
  {
   "cell_type": "markdown",
   "source": [
    "Next step is to start the droplet simulation by using the `DropletSimulation` class from the `flowermd.modules.surface_wetting` module. We will use the `DropletSimulation.from_system` method to create the simulation object from the system object. This method will automatically create the simulation object with the correct parameters for the droplet simulation."
   ],
   "metadata": {
    "collapsed": false
   }
  },
  {
   "cell_type": "code",
   "execution_count": null,
   "outputs": [],
   "source": [
    "from flowermd.modules.surface_wetting import DropletSimulation\n",
    "\n",
    "droplet_sim = DropletSimulation.from_system(droplet_system)"
   ],
   "metadata": {
    "collapsed": false
   }
  },
  {
   "cell_type": "markdown",
   "source": [
    "## Run the droplet simulation:\n",
    "\n",
    "The `run_droplet` method runs the droplet simulation. The method takes the following steps:\n",
    "1. Shrink the box to a high density at a high temperature. This allows the polymer chains to pack tightly.\n",
    "2. Expand the box to a low density at a low temperature. This allows the polymer chains to relax and form a droplet.\n",
    "3. Hold the box at a low density at a low temperature. This allows the droplet to equilibrate."
   ],
   "metadata": {
    "collapsed": false
   }
  },
  {
   "cell_type": "code",
   "execution_count": null,
   "outputs": [],
   "source": [
    "droplet_sim.run_droplet(\n",
    "    tau_kt=droplet_sim.dt * 100,\n",
    "    shrink_kT=5.0,\n",
    "    shrink_steps=1e6,\n",
    "    shrink_period=1000,\n",
    "    shrink_density=1.4,\n",
    "    expand_kT=0.5,\n",
    "    expand_steps=3e6,\n",
    "    expand_period=1000,\n",
    "    hold_kT=0.5,\n",
    "    hold_steps=7e6,\n",
    "    final_density=0.05\n",
    ")\n",
    "droplet_sim.flush_writers()"
   ],
   "metadata": {
    "collapsed": false
   }
  },
  {
   "cell_type": "markdown",
   "source": [
    "**Note**: In order to reach the perfect droplet shape, you might need to try different parameters (e.g. system size, density, and temperatures) and check the trajectory to see if the droplet is forming.\n",
    "\n",
    "For the above system size, in order to reach the perfect droplet shape, the cell needs to be run for a long time. For demonstration purposes, we will use a pre-run droplet simulation snapshot, saved in the `data` directory."
   ],
   "metadata": {
    "collapsed": false
   }
  },
  {
   "cell_type": "code",
   "execution_count": null,
   "outputs": [],
   "source": [
    "import gsd.hoomd\n",
    "\n",
    "droplet_snapshot = gsd.hoomd.open('data/polyethylene_droplet.gsd')[0]"
   ],
   "metadata": {
    "collapsed": false
   }
  },
  {
   "cell_type": "markdown",
   "source": [
    "Here is a visualization of the droplet:"
   ],
   "metadata": {
    "collapsed": false
   }
  },
  {
   "cell_type": "code",
   "execution_count": null,
   "outputs": [],
   "source": [
    "# add code to visualize the droplet"
   ],
   "metadata": {
    "collapsed": false
   }
  },
  {
   "cell_type": "markdown",
   "source": [
    "## Step 2: Create a graphene surface\n",
    "\n",
    "We will use the `Graphene` class from the `flowermd.library.surfaces` to create a graphene surface. The size of the graphene surface is determined by the `x_repeat` and `y_repeat` parameters, which determine the number of unit cells in the x and y directions, respectively.  The `n_layers` parameter determines the number of graphene layers.\n",
    "This class is a subclass of `System` base class, so we can use the `apply_forcefield` method to apply the force field to the graphene surface."
   ],
   "metadata": {
    "collapsed": false
   }
  },
  {
   "cell_type": "markdown",
   "source": [
    "**Note**: We are using the droplet system's reference values to scale the graphene surface. This ensures that the graphene surface and the droplet system have the same units. Make sure to set the `auto_scale` parameter to `False` when applying the force field to the graphene surface."
   ],
   "metadata": {
    "collapsed": false
   }
  },
  {
   "cell_type": "code",
   "execution_count": 5,
   "id": "1a685c3d-ba9f-4db9-9aee-02e61526e2f0",
   "metadata": {
    "scrolled": true
   },
   "outputs": [
    {
     "ename": "KeyboardInterrupt",
     "evalue": "",
     "output_type": "error",
     "traceback": [
      "\u001B[0;31m---------------------------------------------------------------------------\u001B[0m",
      "\u001B[0;31mKeyboardInterrupt\u001B[0m                         Traceback (most recent call last)",
      "Cell \u001B[0;32mIn[5], line 2\u001B[0m\n\u001B[1;32m      1\u001B[0m graphene \u001B[38;5;241m=\u001B[39m Graphene(x_repeat\u001B[38;5;241m=\u001B[39m\u001B[38;5;241m20\u001B[39m, y_repeat\u001B[38;5;241m=\u001B[39m\u001B[38;5;241m20\u001B[39m, n_layers\u001B[38;5;241m=\u001B[39m\u001B[38;5;241m1\u001B[39m)\n\u001B[0;32m----> 2\u001B[0m \u001B[43mgraphene\u001B[49m\u001B[38;5;241;43m.\u001B[39;49m\u001B[43mapply_forcefield\u001B[49m\u001B[43m(\u001B[49m\u001B[43mforce_field\u001B[49m\u001B[38;5;241;43m=\u001B[39;49m\u001B[43mOPLS_AA\u001B[49m\u001B[43m(\u001B[49m\u001B[43m)\u001B[49m\u001B[43m,\u001B[49m\u001B[43m \u001B[49m\u001B[43mremove_charges\u001B[49m\u001B[38;5;241;43m=\u001B[39;49m\u001B[38;5;28;43;01mTrue\u001B[39;49;00m\u001B[43m,\u001B[49m\u001B[43m \u001B[49m\u001B[43mauto_scale\u001B[49m\u001B[38;5;241;43m=\u001B[39;49m\u001B[38;5;28;43;01mTrue\u001B[39;49;00m\u001B[43m,\u001B[49m\u001B[43m \u001B[49m\u001B[43mr_cut\u001B[49m\u001B[38;5;241;43m=\u001B[39;49m\u001B[38;5;241;43m2.\u001B[39;49m\u001B[43m)\u001B[49m\n",
      "File \u001B[0;32m~/Documents/code-base/flowerMD/flowermd/base/system.py:573\u001B[0m, in \u001B[0;36mSystem.apply_forcefield\u001B[0;34m(self, r_cut, force_field, auto_scale, scale_charges, remove_charges, remove_hydrogens, pppm_resolution, pppm_order, nlist_buffer)\u001B[0m\n\u001B[1;32m    569\u001B[0m \u001B[38;5;28;01mif\u001B[39;00m \u001B[38;5;28mself\u001B[39m\u001B[38;5;241m.\u001B[39m_gmso_forcefields_dict:\n\u001B[1;32m    570\u001B[0m     \u001B[38;5;66;03m# assign names to all the gmso sites based on mol_type to\u001B[39;00m\n\u001B[1;32m    571\u001B[0m     \u001B[38;5;66;03m# match the keys in self._gmso_forcefields_dict before applying ff\u001B[39;00m\n\u001B[1;32m    572\u001B[0m     \u001B[38;5;28mself\u001B[39m\u001B[38;5;241m.\u001B[39m_assign_site_mol_type_idx()\n\u001B[0;32m--> 573\u001B[0m \u001B[38;5;28mself\u001B[39m\u001B[38;5;241m.\u001B[39mgmso_system \u001B[38;5;241m=\u001B[39m \u001B[43mapply\u001B[49m\u001B[43m(\u001B[49m\n\u001B[1;32m    574\u001B[0m \u001B[43m    \u001B[49m\u001B[38;5;28;43mself\u001B[39;49m\u001B[38;5;241;43m.\u001B[39;49m\u001B[43mgmso_system\u001B[49m\u001B[43m,\u001B[49m\n\u001B[1;32m    575\u001B[0m \u001B[43m    \u001B[49m\u001B[38;5;28;43mself\u001B[39;49m\u001B[38;5;241;43m.\u001B[39;49m\u001B[43m_gmso_forcefields_dict\u001B[49m\u001B[43m,\u001B[49m\n\u001B[1;32m    576\u001B[0m \u001B[43m    \u001B[49m\u001B[43mmatch_ff_by\u001B[49m\u001B[38;5;241;43m=\u001B[39;49m\u001B[38;5;124;43m\"\u001B[39;49m\u001B[38;5;124;43mgroup\u001B[39;49m\u001B[38;5;124;43m\"\u001B[39;49m\u001B[43m,\u001B[49m\n\u001B[1;32m    577\u001B[0m \u001B[43m    \u001B[49m\u001B[43midentify_connections\u001B[49m\u001B[38;5;241;43m=\u001B[39;49m\u001B[38;5;28;43;01mTrue\u001B[39;49;00m\u001B[43m,\u001B[49m\n\u001B[1;32m    578\u001B[0m \u001B[43m    \u001B[49m\u001B[43mspeedup_by_moltag\u001B[49m\u001B[38;5;241;43m=\u001B[39;49m\u001B[38;5;28;43;01mTrue\u001B[39;49;00m\u001B[43m,\u001B[49m\n\u001B[1;32m    579\u001B[0m \u001B[43m    \u001B[49m\u001B[43mspeedup_by_molgraph\u001B[49m\u001B[38;5;241;43m=\u001B[39;49m\u001B[38;5;28;43;01mFalse\u001B[39;49;00m\u001B[43m,\u001B[49m\n\u001B[1;32m    580\u001B[0m \u001B[43m\u001B[49m\u001B[43m)\u001B[49m\n\u001B[1;32m    582\u001B[0m \u001B[38;5;28;01mif\u001B[39;00m remove_charges:\n\u001B[1;32m    583\u001B[0m     \u001B[38;5;28;01mfor\u001B[39;00m site \u001B[38;5;129;01min\u001B[39;00m \u001B[38;5;28mself\u001B[39m\u001B[38;5;241m.\u001B[39mgmso_system\u001B[38;5;241m.\u001B[39msites:\n",
      "File \u001B[0;32m~/anaconda3/envs/flowermd/lib/python3.11/site-packages/gmso/parameterization/parameterize.py:91\u001B[0m, in \u001B[0;36mapply\u001B[0;34m(top, forcefields, match_ff_by, identify_connections, speedup_by_molgraph, speedup_by_moltag, ignore_params, remove_untyped, fast_copy)\u001B[0m\n\u001B[1;32m     76\u001B[0m config \u001B[38;5;241m=\u001B[39m TopologyParameterizationConfig\u001B[38;5;241m.\u001B[39mparse_obj(\n\u001B[1;32m     77\u001B[0m     \u001B[38;5;28mdict\u001B[39m(\n\u001B[1;32m     78\u001B[0m         match_ff_by\u001B[38;5;241m=\u001B[39mmatch_ff_by,\n\u001B[0;32m   (...)\u001B[0m\n\u001B[1;32m     85\u001B[0m     )\n\u001B[1;32m     86\u001B[0m )\n\u001B[1;32m     87\u001B[0m parameterizer \u001B[38;5;241m=\u001B[39m TopologyParameterizer(\n\u001B[1;32m     88\u001B[0m     topology\u001B[38;5;241m=\u001B[39mtop, forcefields\u001B[38;5;241m=\u001B[39mforcefields, config\u001B[38;5;241m=\u001B[39mconfig\n\u001B[1;32m     89\u001B[0m )\n\u001B[0;32m---> 91\u001B[0m \u001B[43mparameterizer\u001B[49m\u001B[38;5;241;43m.\u001B[39;49m\u001B[43mrun_parameterization\u001B[49m\u001B[43m(\u001B[49m\u001B[43m)\u001B[49m\n\u001B[1;32m     93\u001B[0m \u001B[38;5;28;01mreturn\u001B[39;00m parameterizer\u001B[38;5;241m.\u001B[39mtopology\n",
      "File \u001B[0;32m~/anaconda3/envs/flowermd/lib/python3.11/site-packages/gmso/parameterization/topology_parameterizer.py:335\u001B[0m, in \u001B[0;36mTopologyParameterizer.run_parameterization\u001B[0;34m(self)\u001B[0m\n\u001B[1;32m    330\u001B[0m             warnings\u001B[38;5;241m.\u001B[39mwarn(\n\u001B[1;32m    331\u001B[0m                 \u001B[38;5;124mf\u001B[39m\u001B[38;5;124m\"\u001B[39m\u001B[38;5;124mGroup/molecule \u001B[39m\u001B[38;5;132;01m{\u001B[39;00mlabel\u001B[38;5;132;01m}\u001B[39;00m\u001B[38;5;124m will not be parameterized, as the forcefield to parameterize it \u001B[39m\u001B[38;5;124m\"\u001B[39m\n\u001B[1;32m    332\u001B[0m                 \u001B[38;5;124mf\u001B[39m\u001B[38;5;124m\"\u001B[39m\u001B[38;5;124mis missing.\u001B[39m\u001B[38;5;124m\"\u001B[39m\n\u001B[1;32m    333\u001B[0m             )  \u001B[38;5;66;03m# FixMe: Will warning be enough?\u001B[39;00m\n\u001B[1;32m    334\u001B[0m         \u001B[38;5;28;01melse\u001B[39;00m:\n\u001B[0;32m--> 335\u001B[0m             typemap \u001B[38;5;241m=\u001B[39m \u001B[38;5;28;43mself\u001B[39;49m\u001B[38;5;241;43m.\u001B[39;49m\u001B[43m_get_atomtypes\u001B[49m\u001B[43m(\u001B[49m\n\u001B[1;32m    336\u001B[0m \u001B[43m                \u001B[49m\u001B[38;5;28;43mself\u001B[39;49m\u001B[38;5;241;43m.\u001B[39;49m\u001B[43mget_ff\u001B[49m\u001B[43m(\u001B[49m\u001B[43mlabel\u001B[49m\u001B[43m)\u001B[49m\u001B[43m,\u001B[49m\n\u001B[1;32m    337\u001B[0m \u001B[43m                \u001B[49m\u001B[38;5;28;43mself\u001B[39;49m\u001B[38;5;241;43m.\u001B[39;49m\u001B[43mtopology\u001B[49m\u001B[43m,\u001B[49m\n\u001B[1;32m    338\u001B[0m \u001B[43m                \u001B[49m\u001B[38;5;28;43mself\u001B[39;49m\u001B[38;5;241;43m.\u001B[39;49m\u001B[43mconfig\u001B[49m\u001B[38;5;241;43m.\u001B[39;49m\u001B[43mmatch_ff_by\u001B[49m\u001B[43m,\u001B[49m\n\u001B[1;32m    339\u001B[0m \u001B[43m                \u001B[49m\u001B[43mlabel\u001B[49m\u001B[43m,\u001B[49m\n\u001B[1;32m    340\u001B[0m \u001B[43m                \u001B[49m\u001B[38;5;28;43mself\u001B[39;49m\u001B[38;5;241;43m.\u001B[39;49m\u001B[43mconfig\u001B[49m\u001B[38;5;241;43m.\u001B[39;49m\u001B[43mspeedup_by_moltag\u001B[49m\u001B[43m,\u001B[49m\n\u001B[1;32m    341\u001B[0m \u001B[43m                \u001B[49m\u001B[38;5;28;43mself\u001B[39;49m\u001B[38;5;241;43m.\u001B[39;49m\u001B[43mconfig\u001B[49m\u001B[38;5;241;43m.\u001B[39;49m\u001B[43mspeedup_by_molgraph\u001B[49m\u001B[43m,\u001B[49m\n\u001B[1;32m    342\u001B[0m \u001B[43m            \u001B[49m\u001B[43m)\u001B[49m\n\u001B[1;32m    343\u001B[0m             \u001B[38;5;28mself\u001B[39m\u001B[38;5;241m.\u001B[39m_parameterize(\n\u001B[1;32m    344\u001B[0m                 \u001B[38;5;28mself\u001B[39m\u001B[38;5;241m.\u001B[39mtopology,\n\u001B[1;32m    345\u001B[0m                 typemap,\n\u001B[0;32m   (...)\u001B[0m\n\u001B[1;32m    348\u001B[0m                 speedup_by_moltag\u001B[38;5;241m=\u001B[39m\u001B[38;5;28mself\u001B[39m\u001B[38;5;241m.\u001B[39mconfig\u001B[38;5;241m.\u001B[39mspeedup_by_moltag,  \u001B[38;5;66;03m# This will be removed from the future iterations\u001B[39;00m\n\u001B[1;32m    349\u001B[0m             )\n\u001B[1;32m    350\u001B[0m \u001B[38;5;28;01melse\u001B[39;00m:\n",
      "File \u001B[0;32m~/anaconda3/envs/flowermd/lib/python3.11/site-packages/gmso/parameterization/topology_parameterizer.py:426\u001B[0m, in \u001B[0;36mTopologyParameterizer._get_atomtypes\u001B[0;34m(forcefield, topology, label_type, label, speedup_by_moltag, use_isomorphic_checks)\u001B[0m\n\u001B[1;32m    423\u001B[0m molecule \u001B[38;5;241m=\u001B[39m subgraph\u001B[38;5;241m.\u001B[39mnodes[nodes_idx[\u001B[38;5;241m0\u001B[39m]][\u001B[38;5;124m\"\u001B[39m\u001B[38;5;124matom_data\u001B[39m\u001B[38;5;124m\"\u001B[39m]\u001B[38;5;241m.\u001B[39mmolecule\n\u001B[1;32m    424\u001B[0m \u001B[38;5;28;01mif\u001B[39;00m molecule \u001B[38;5;129;01mnot\u001B[39;00m \u001B[38;5;129;01min\u001B[39;00m reference:\n\u001B[1;32m    425\u001B[0m     reference[molecule] \u001B[38;5;241m=\u001B[39m {\n\u001B[0;32m--> 426\u001B[0m         \u001B[38;5;124m\"\u001B[39m\u001B[38;5;124mtypemap\u001B[39m\u001B[38;5;124m\"\u001B[39m: \u001B[43mtypemap_dict\u001B[49m\u001B[43m(\u001B[49m\n\u001B[1;32m    427\u001B[0m \u001B[43m            \u001B[49m\u001B[43matomtyping_rules_provider\u001B[49m\u001B[38;5;241;43m=\u001B[39;49m\u001B[43matom_typing_rules_provider\u001B[49m\u001B[43m,\u001B[49m\n\u001B[1;32m    428\u001B[0m \u001B[43m            \u001B[49m\u001B[43mtopology_graph\u001B[49m\u001B[38;5;241;43m=\u001B[39;49m\u001B[43msubgraph\u001B[49m\u001B[43m,\u001B[49m\n\u001B[1;32m    429\u001B[0m \u001B[43m        \u001B[49m\u001B[43m)\u001B[49m,\n\u001B[1;32m    430\u001B[0m         \u001B[38;5;124m\"\u001B[39m\u001B[38;5;124mgraph\u001B[39m\u001B[38;5;124m\"\u001B[39m: subgraph,\n\u001B[1;32m    431\u001B[0m     }\n\u001B[1;32m    432\u001B[0m     typemap\u001B[38;5;241m.\u001B[39mupdate(reference[molecule][\u001B[38;5;124m\"\u001B[39m\u001B[38;5;124mtypemap\u001B[39m\u001B[38;5;124m\"\u001B[39m])\n\u001B[1;32m    433\u001B[0m \u001B[38;5;28;01melse\u001B[39;00m:\n",
      "File \u001B[0;32m~/anaconda3/envs/flowermd/lib/python3.11/site-packages/gmso/parameterization/foyer_utils.py:123\u001B[0m, in \u001B[0;36mtypemap_dict\u001B[0;34m(topology_graph, atomtyping_rules_provider, max_iter)\u001B[0m\n\u001B[1;32m    121\u001B[0m \u001B[38;5;28;01mdef\u001B[39;00m \u001B[38;5;21mtypemap_dict\u001B[39m(topology_graph, atomtyping_rules_provider, max_iter\u001B[38;5;241m=\u001B[39m\u001B[38;5;241m10\u001B[39m):\n\u001B[1;32m    122\u001B[0m \u001B[38;5;250m    \u001B[39m\u001B[38;5;124;03m\"\"\"Return a dictionary of typemap, by finding atomtypes in foyer.\"\"\"\u001B[39;00m\n\u001B[0;32m--> 123\u001B[0m     \u001B[38;5;28;01mreturn\u001B[39;00m \u001B[43mfind_atomtypes\u001B[49m\u001B[43m(\u001B[49m\u001B[43mtopology_graph\u001B[49m\u001B[43m,\u001B[49m\u001B[43m \u001B[49m\u001B[43matomtyping_rules_provider\u001B[49m\u001B[43m,\u001B[49m\u001B[43m \u001B[49m\u001B[43mmax_iter\u001B[49m\u001B[43m)\u001B[49m\n",
      "File \u001B[0;32m~/anaconda3/envs/flowermd/lib/python3.11/site-packages/foyer/atomtyper.py:148\u001B[0m, in \u001B[0;36mfind_atomtypes\u001B[0;34m(structure, forcefield, max_iter)\u001B[0m\n\u001B[1;32m    145\u001B[0m         subrules[key] \u001B[38;5;241m=\u001B[39m val\n\u001B[1;32m    146\u001B[0m rules \u001B[38;5;241m=\u001B[39m subrules\n\u001B[0;32m--> 148\u001B[0m \u001B[43m_iterate_rules\u001B[49m\u001B[43m(\u001B[49m\u001B[43mrules\u001B[49m\u001B[43m,\u001B[49m\u001B[43m \u001B[49m\u001B[43mtopology_graph\u001B[49m\u001B[43m,\u001B[49m\u001B[43m \u001B[49m\u001B[43mtypemap\u001B[49m\u001B[43m,\u001B[49m\u001B[43m \u001B[49m\u001B[43mmax_iter\u001B[49m\u001B[38;5;241;43m=\u001B[39;49m\u001B[43mmax_iter\u001B[49m\u001B[43m)\u001B[49m\n\u001B[1;32m    149\u001B[0m _resolve_atomtypes(topology_graph, typemap)\n\u001B[1;32m    151\u001B[0m \u001B[38;5;28;01mreturn\u001B[39;00m typemap\n",
      "File \u001B[0;32m~/anaconda3/envs/flowermd/lib/python3.11/site-packages/foyer/atomtyper.py:195\u001B[0m, in \u001B[0;36m_iterate_rules\u001B[0;34m(rules, topology_graph, typemap, max_iter)\u001B[0m\n\u001B[1;32m    193\u001B[0m found_something \u001B[38;5;241m=\u001B[39m \u001B[38;5;28;01mFalse\u001B[39;00m\n\u001B[1;32m    194\u001B[0m \u001B[38;5;28;01mfor\u001B[39;00m rule \u001B[38;5;129;01min\u001B[39;00m rules\u001B[38;5;241m.\u001B[39mvalues():\n\u001B[0;32m--> 195\u001B[0m \u001B[43m    \u001B[49m\u001B[38;5;28;43;01mfor\u001B[39;49;00m\u001B[43m \u001B[49m\u001B[43mmatch_index\u001B[49m\u001B[43m \u001B[49m\u001B[38;5;129;43;01min\u001B[39;49;00m\u001B[43m \u001B[49m\u001B[43mrule\u001B[49m\u001B[38;5;241;43m.\u001B[39;49m\u001B[43mfind_matches\u001B[49m\u001B[43m(\u001B[49m\u001B[43mtopology_graph\u001B[49m\u001B[43m,\u001B[49m\u001B[43m \u001B[49m\u001B[43mtypemap\u001B[49m\u001B[43m)\u001B[49m\u001B[43m:\u001B[49m\n\u001B[1;32m    196\u001B[0m \u001B[43m        \u001B[49m\u001B[43matom\u001B[49m\u001B[43m \u001B[49m\u001B[38;5;241;43m=\u001B[39;49m\u001B[43m \u001B[49m\u001B[43mtypemap\u001B[49m\u001B[43m[\u001B[49m\u001B[43mmatch_index\u001B[49m\u001B[43m]\u001B[49m\n\u001B[1;32m    197\u001B[0m \u001B[43m        \u001B[49m\u001B[38;5;66;43;03m# This conditional is not strictly necessary, but it prevents\u001B[39;49;00m\n\u001B[1;32m    198\u001B[0m \u001B[43m        \u001B[49m\u001B[38;5;66;43;03m# redundant set addition on later iterations\u001B[39;49;00m\n",
      "File \u001B[0;32m~/anaconda3/envs/flowermd/lib/python3.11/site-packages/foyer/smarts_graph.py:239\u001B[0m, in \u001B[0;36mSMARTSGraph.find_matches\u001B[0;34m(self, topology_graph, typemap)\u001B[0m\n\u001B[1;32m    230\u001B[0m     \u001B[38;5;28mself\u001B[39m\u001B[38;5;241m.\u001B[39m_graph_matcher \u001B[38;5;241m=\u001B[39m SMARTSMatcher(\n\u001B[1;32m    231\u001B[0m         topology_graph,\n\u001B[1;32m    232\u001B[0m         \u001B[38;5;28mself\u001B[39m,\n\u001B[0;32m   (...)\u001B[0m\n\u001B[1;32m    235\u001B[0m         typemap\u001B[38;5;241m=\u001B[39mtypemap,\n\u001B[1;32m    236\u001B[0m     )\n\u001B[1;32m    238\u001B[0m matched_atoms \u001B[38;5;241m=\u001B[39m \u001B[38;5;28mset\u001B[39m()\n\u001B[0;32m--> 239\u001B[0m \u001B[43m\u001B[49m\u001B[38;5;28;43;01mfor\u001B[39;49;00m\u001B[43m \u001B[49m\u001B[43mmapping\u001B[49m\u001B[43m \u001B[49m\u001B[38;5;129;43;01min\u001B[39;49;00m\u001B[43m \u001B[49m\u001B[38;5;28;43mself\u001B[39;49m\u001B[38;5;241;43m.\u001B[39;49m\u001B[43m_graph_matcher\u001B[49m\u001B[38;5;241;43m.\u001B[39;49m\u001B[43msubgraph_isomorphisms_iter\u001B[49m\u001B[43m(\u001B[49m\u001B[43m)\u001B[49m\u001B[43m:\u001B[49m\n\u001B[1;32m    240\u001B[0m \u001B[43m    \u001B[49m\u001B[43mmapping\u001B[49m\u001B[43m \u001B[49m\u001B[38;5;241;43m=\u001B[39;49m\u001B[43m \u001B[49m\u001B[43m{\u001B[49m\u001B[43mnode_id\u001B[49m\u001B[43m:\u001B[49m\u001B[43m \u001B[49m\u001B[43matom_id\u001B[49m\u001B[43m \u001B[49m\u001B[38;5;28;43;01mfor\u001B[39;49;00m\u001B[43m \u001B[49m\u001B[43matom_id\u001B[49m\u001B[43m,\u001B[49m\u001B[43m \u001B[49m\u001B[43mnode_id\u001B[49m\u001B[43m \u001B[49m\u001B[38;5;129;43;01min\u001B[39;49;00m\u001B[43m \u001B[49m\u001B[43mmapping\u001B[49m\u001B[38;5;241;43m.\u001B[39;49m\u001B[43mitems\u001B[49m\u001B[43m(\u001B[49m\u001B[43m)\u001B[49m\u001B[43m}\u001B[49m\n\u001B[1;32m    241\u001B[0m \u001B[43m    \u001B[49m\u001B[38;5;66;43;03m# The first node in the smarts graph always corresponds to the atom\u001B[39;49;00m\n\u001B[1;32m    242\u001B[0m \u001B[43m    \u001B[49m\u001B[38;5;66;43;03m# that we are trying to match.\u001B[39;49;00m\n",
      "File \u001B[0;32m~/anaconda3/envs/flowermd/lib/python3.11/site-packages/networkx/algorithms/isomorphism/isomorphvf2.py:384\u001B[0m, in \u001B[0;36mGraphMatcher.subgraph_isomorphisms_iter\u001B[0;34m(self)\u001B[0m\n\u001B[1;32m    382\u001B[0m \u001B[38;5;28mself\u001B[39m\u001B[38;5;241m.\u001B[39mtest \u001B[38;5;241m=\u001B[39m \u001B[38;5;124m\"\u001B[39m\u001B[38;5;124msubgraph\u001B[39m\u001B[38;5;124m\"\u001B[39m\n\u001B[1;32m    383\u001B[0m \u001B[38;5;28mself\u001B[39m\u001B[38;5;241m.\u001B[39minitialize()\n\u001B[0;32m--> 384\u001B[0m \u001B[38;5;28;01myield from\u001B[39;00m \u001B[38;5;28mself\u001B[39m\u001B[38;5;241m.\u001B[39mmatch()\n",
      "File \u001B[0;32m~/anaconda3/envs/flowermd/lib/python3.11/site-packages/networkx/algorithms/isomorphism/isomorphvf2.py:316\u001B[0m, in \u001B[0;36mGraphMatcher.match\u001B[0;34m(self)\u001B[0m\n\u001B[1;32m    313\u001B[0m \u001B[38;5;28;01mif\u001B[39;00m \u001B[38;5;28mself\u001B[39m\u001B[38;5;241m.\u001B[39msemantic_feasibility(G1_node, G2_node):\n\u001B[1;32m    314\u001B[0m     \u001B[38;5;66;03m# Recursive call, adding the feasible state.\u001B[39;00m\n\u001B[1;32m    315\u001B[0m     newstate \u001B[38;5;241m=\u001B[39m \u001B[38;5;28mself\u001B[39m\u001B[38;5;241m.\u001B[39mstate\u001B[38;5;241m.\u001B[39m\u001B[38;5;18m__class__\u001B[39m(\u001B[38;5;28mself\u001B[39m, G1_node, G2_node)\n\u001B[0;32m--> 316\u001B[0m     \u001B[38;5;28;01myield from\u001B[39;00m \u001B[38;5;28mself\u001B[39m\u001B[38;5;241m.\u001B[39mmatch()\n\u001B[1;32m    318\u001B[0m     \u001B[38;5;66;03m# restore data structures\u001B[39;00m\n\u001B[1;32m    319\u001B[0m     newstate\u001B[38;5;241m.\u001B[39mrestore()\n",
      "File \u001B[0;32m~/anaconda3/envs/flowermd/lib/python3.11/site-packages/networkx/algorithms/isomorphism/isomorphvf2.py:316\u001B[0m, in \u001B[0;36mGraphMatcher.match\u001B[0;34m(self)\u001B[0m\n\u001B[1;32m    313\u001B[0m \u001B[38;5;28;01mif\u001B[39;00m \u001B[38;5;28mself\u001B[39m\u001B[38;5;241m.\u001B[39msemantic_feasibility(G1_node, G2_node):\n\u001B[1;32m    314\u001B[0m     \u001B[38;5;66;03m# Recursive call, adding the feasible state.\u001B[39;00m\n\u001B[1;32m    315\u001B[0m     newstate \u001B[38;5;241m=\u001B[39m \u001B[38;5;28mself\u001B[39m\u001B[38;5;241m.\u001B[39mstate\u001B[38;5;241m.\u001B[39m\u001B[38;5;18m__class__\u001B[39m(\u001B[38;5;28mself\u001B[39m, G1_node, G2_node)\n\u001B[0;32m--> 316\u001B[0m     \u001B[38;5;28;01myield from\u001B[39;00m \u001B[38;5;28mself\u001B[39m\u001B[38;5;241m.\u001B[39mmatch()\n\u001B[1;32m    318\u001B[0m     \u001B[38;5;66;03m# restore data structures\u001B[39;00m\n\u001B[1;32m    319\u001B[0m     newstate\u001B[38;5;241m.\u001B[39mrestore()\n",
      "    \u001B[0;31m[... skipping similar frames: GraphMatcher.match at line 316 (1 times)]\u001B[0m\n",
      "File \u001B[0;32m~/anaconda3/envs/flowermd/lib/python3.11/site-packages/networkx/algorithms/isomorphism/isomorphvf2.py:316\u001B[0m, in \u001B[0;36mGraphMatcher.match\u001B[0;34m(self)\u001B[0m\n\u001B[1;32m    313\u001B[0m \u001B[38;5;28;01mif\u001B[39;00m \u001B[38;5;28mself\u001B[39m\u001B[38;5;241m.\u001B[39msemantic_feasibility(G1_node, G2_node):\n\u001B[1;32m    314\u001B[0m     \u001B[38;5;66;03m# Recursive call, adding the feasible state.\u001B[39;00m\n\u001B[1;32m    315\u001B[0m     newstate \u001B[38;5;241m=\u001B[39m \u001B[38;5;28mself\u001B[39m\u001B[38;5;241m.\u001B[39mstate\u001B[38;5;241m.\u001B[39m\u001B[38;5;18m__class__\u001B[39m(\u001B[38;5;28mself\u001B[39m, G1_node, G2_node)\n\u001B[0;32m--> 316\u001B[0m     \u001B[38;5;28;01myield from\u001B[39;00m \u001B[38;5;28mself\u001B[39m\u001B[38;5;241m.\u001B[39mmatch()\n\u001B[1;32m    318\u001B[0m     \u001B[38;5;66;03m# restore data structures\u001B[39;00m\n\u001B[1;32m    319\u001B[0m     newstate\u001B[38;5;241m.\u001B[39mrestore()\n",
      "File \u001B[0;32m~/anaconda3/envs/flowermd/lib/python3.11/site-packages/networkx/algorithms/isomorphism/isomorphvf2.py:312\u001B[0m, in \u001B[0;36mGraphMatcher.match\u001B[0;34m(self)\u001B[0m\n\u001B[1;32m    310\u001B[0m \u001B[38;5;28;01melse\u001B[39;00m:\n\u001B[1;32m    311\u001B[0m     \u001B[38;5;28;01mfor\u001B[39;00m G1_node, G2_node \u001B[38;5;129;01min\u001B[39;00m \u001B[38;5;28mself\u001B[39m\u001B[38;5;241m.\u001B[39mcandidate_pairs_iter():\n\u001B[0;32m--> 312\u001B[0m         \u001B[38;5;28;01mif\u001B[39;00m \u001B[38;5;28;43mself\u001B[39;49m\u001B[38;5;241;43m.\u001B[39;49m\u001B[43msyntactic_feasibility\u001B[49m\u001B[43m(\u001B[49m\u001B[43mG1_node\u001B[49m\u001B[43m,\u001B[49m\u001B[43m \u001B[49m\u001B[43mG2_node\u001B[49m\u001B[43m)\u001B[49m:\n\u001B[1;32m    313\u001B[0m             \u001B[38;5;28;01mif\u001B[39;00m \u001B[38;5;28mself\u001B[39m\u001B[38;5;241m.\u001B[39msemantic_feasibility(G1_node, G2_node):\n\u001B[1;32m    314\u001B[0m                 \u001B[38;5;66;03m# Recursive call, adding the feasible state.\u001B[39;00m\n\u001B[1;32m    315\u001B[0m                 newstate \u001B[38;5;241m=\u001B[39m \u001B[38;5;28mself\u001B[39m\u001B[38;5;241m.\u001B[39mstate\u001B[38;5;241m.\u001B[39m\u001B[38;5;18m__class__\u001B[39m(\u001B[38;5;28mself\u001B[39m, G1_node, G2_node)\n",
      "File \u001B[0;32m~/anaconda3/envs/flowermd/lib/python3.11/site-packages/networkx/algorithms/isomorphism/isomorphvf2.py:437\u001B[0m, in \u001B[0;36mGraphMatcher.syntactic_feasibility\u001B[0;34m(self, G1_node, G2_node)\u001B[0m\n\u001B[1;32m    435\u001B[0m         \u001B[38;5;28;01mreturn\u001B[39;00m \u001B[38;5;28;01mFalse\u001B[39;00m\n\u001B[1;32m    436\u001B[0m \u001B[38;5;28;01melse\u001B[39;00m:\n\u001B[0;32m--> 437\u001B[0m     \u001B[38;5;28;01mif\u001B[39;00m \u001B[38;5;28;43mself\u001B[39;49m\u001B[38;5;241;43m.\u001B[39;49m\u001B[43mG1\u001B[49m\u001B[38;5;241;43m.\u001B[39;49m\u001B[43mnumber_of_edges\u001B[49m\u001B[43m(\u001B[49m\u001B[43mG1_node\u001B[49m\u001B[43m,\u001B[49m\u001B[43m \u001B[49m\u001B[43mG1_node\u001B[49m\u001B[43m)\u001B[49m \u001B[38;5;241m!=\u001B[39m \u001B[38;5;28mself\u001B[39m\u001B[38;5;241m.\u001B[39mG2\u001B[38;5;241m.\u001B[39mnumber_of_edges(\n\u001B[1;32m    438\u001B[0m         G2_node, G2_node\n\u001B[1;32m    439\u001B[0m     ):\n\u001B[1;32m    440\u001B[0m         \u001B[38;5;28;01mreturn\u001B[39;00m \u001B[38;5;28;01mFalse\u001B[39;00m\n\u001B[1;32m    442\u001B[0m \u001B[38;5;66;03m# R_neighbor\u001B[39;00m\n\u001B[1;32m    443\u001B[0m \n\u001B[1;32m    444\u001B[0m \u001B[38;5;66;03m# For each neighbor n' of n in the partial mapping, the corresponding\u001B[39;00m\n\u001B[1;32m    445\u001B[0m \u001B[38;5;66;03m# node m' is a neighbor of m, and vice versa. Also, the number of\u001B[39;00m\n\u001B[1;32m    446\u001B[0m \u001B[38;5;66;03m# edges must be equal.\u001B[39;00m\n",
      "File \u001B[0;32m~/anaconda3/envs/flowermd/lib/python3.11/site-packages/networkx/classes/graph.py:1960\u001B[0m, in \u001B[0;36mGraph.number_of_edges\u001B[0;34m(self, u, v)\u001B[0m\n\u001B[1;32m   1958\u001B[0m \u001B[38;5;28;01mif\u001B[39;00m u \u001B[38;5;129;01mis\u001B[39;00m \u001B[38;5;28;01mNone\u001B[39;00m:\n\u001B[1;32m   1959\u001B[0m     \u001B[38;5;28;01mreturn\u001B[39;00m \u001B[38;5;28mint\u001B[39m(\u001B[38;5;28mself\u001B[39m\u001B[38;5;241m.\u001B[39msize())\n\u001B[0;32m-> 1960\u001B[0m \u001B[38;5;28;01mif\u001B[39;00m v \u001B[38;5;129;01min\u001B[39;00m \u001B[38;5;28;43mself\u001B[39;49m\u001B[38;5;241;43m.\u001B[39;49m\u001B[43m_adj\u001B[49m\u001B[43m[\u001B[49m\u001B[43mu\u001B[49m\u001B[43m]\u001B[49m:\n\u001B[1;32m   1961\u001B[0m     \u001B[38;5;28;01mreturn\u001B[39;00m \u001B[38;5;241m1\u001B[39m\n\u001B[1;32m   1962\u001B[0m \u001B[38;5;28;01mreturn\u001B[39;00m \u001B[38;5;241m0\u001B[39m\n",
      "File \u001B[0;32m~/anaconda3/envs/flowermd/lib/python3.11/site-packages/networkx/classes/coreviews.py:319\u001B[0m, in \u001B[0;36mFilterAdjacency.__getitem__\u001B[0;34m(self, node)\u001B[0m\n\u001B[1;32m    316\u001B[0m     \u001B[38;5;28;01mdef\u001B[39;00m \u001B[38;5;21mnew_node_ok\u001B[39m(nbr):\n\u001B[1;32m    317\u001B[0m         \u001B[38;5;28;01mreturn\u001B[39;00m \u001B[38;5;28mself\u001B[39m\u001B[38;5;241m.\u001B[39mNODE_OK(nbr) \u001B[38;5;129;01mand\u001B[39;00m \u001B[38;5;28mself\u001B[39m\u001B[38;5;241m.\u001B[39mEDGE_OK(node, nbr)\n\u001B[0;32m--> 319\u001B[0m     \u001B[38;5;28;01mreturn\u001B[39;00m \u001B[43mFilterAtlas\u001B[49m\u001B[43m(\u001B[49m\u001B[38;5;28;43mself\u001B[39;49m\u001B[38;5;241;43m.\u001B[39;49m\u001B[43m_atlas\u001B[49m\u001B[43m[\u001B[49m\u001B[43mnode\u001B[49m\u001B[43m]\u001B[49m\u001B[43m,\u001B[49m\u001B[43m \u001B[49m\u001B[43mnew_node_ok\u001B[49m\u001B[43m)\u001B[49m\n\u001B[1;32m    320\u001B[0m \u001B[38;5;28;01mraise\u001B[39;00m \u001B[38;5;167;01mKeyError\u001B[39;00m(\u001B[38;5;124mf\u001B[39m\u001B[38;5;124m\"\u001B[39m\u001B[38;5;124mKey \u001B[39m\u001B[38;5;132;01m{\u001B[39;00mnode\u001B[38;5;132;01m}\u001B[39;00m\u001B[38;5;124m not found\u001B[39m\u001B[38;5;124m\"\u001B[39m)\n",
      "File \u001B[0;32m~/anaconda3/envs/flowermd/lib/python3.11/site-packages/networkx/classes/coreviews.py:267\u001B[0m, in \u001B[0;36mFilterAtlas.__init__\u001B[0;34m(self, d, NODE_OK)\u001B[0m\n\u001B[1;32m    266\u001B[0m \u001B[38;5;28;01mclass\u001B[39;00m \u001B[38;5;21;01mFilterAtlas\u001B[39;00m(Mapping):  \u001B[38;5;66;03m# nodedict, nbrdict, keydict\u001B[39;00m\n\u001B[0;32m--> 267\u001B[0m     \u001B[38;5;28;01mdef\u001B[39;00m \u001B[38;5;21m__init__\u001B[39m(\u001B[38;5;28mself\u001B[39m, d, NODE_OK):\n\u001B[1;32m    268\u001B[0m         \u001B[38;5;28mself\u001B[39m\u001B[38;5;241m.\u001B[39m_atlas \u001B[38;5;241m=\u001B[39m d\n\u001B[1;32m    269\u001B[0m         \u001B[38;5;28mself\u001B[39m\u001B[38;5;241m.\u001B[39mNODE_OK \u001B[38;5;241m=\u001B[39m NODE_OK\n",
      "\u001B[0;31mKeyboardInterrupt\u001B[0m: "
     ]
    }
   ],
   "source": [
    "from flowermd.library.surfaces import Graphene\n",
    "\n",
    "graphene = Graphene(x_repeat=20, y_repeat=20, n_layers=1,\n",
    "                    base_units=droplet_system.reference_values)\n",
    "graphene.apply_forcefield(force_field=OPLS_AA(), remove_charges=True,\n",
    "                          auto_scale=False, r_cut=2.5)"
   ]
  },
  {
   "cell_type": "markdown",
   "source": [
    "## Step 3: Combine the droplet and surface systems\n",
    "\n",
    "The `InterfaceBuilder` class from the `flowermd.modules.surface_wetting` module combines the droplet and surface snapshots by placing the droplet particles on top of the surface. The particles are placed in a box with a height equal to the `box_height` parameter. The `gap` parameter determines the distance between the droplet and the surface.\n",
    "\n",
    "This class also combines the force fields of the droplet and surface systems, while also accounting for new LJ interactions between the droplet and surface particles.\n"
   ],
   "metadata": {
    "collapsed": false
   }
  },
  {
   "cell_type": "code",
   "execution_count": 5,
   "id": "a37a21d6-4185-4ecf-b3c3-112a4436cdae",
   "metadata": {},
   "outputs": [],
   "source": [
    "from flowermd.modules.surface_wetting import InterfaceBuilder\n",
    "import unyt as u\n",
    "\n",
    "surface = InterfaceBuilder(\n",
    "    surface_snapshot=graphene.hoomd_snapshot,\n",
    "    surface_ff=graphene.hoomd_forcefield,\n",
    "    drop_snapshot=droplet_snapshot,\n",
    "    drop_ff=droplet_system.hoomd_forcefield,\n",
    "    drop_ref_values=droplet_system.reference_values,\n",
    "    box_height=15 * u.nm,\n",
    "    gap=0.4 * u.nm\n",
    ")"
   ]
  },
  {
   "cell_type": "markdown",
   "source": [
    "The new snapshot and force field can be accessed using the `hoomd_snapshot` and `hoomd_forcefield` attributes, respectively."
   ],
   "metadata": {
    "collapsed": false
   }
  },
  {
   "cell_type": "code",
   "execution_count": 8,
   "id": "94cda23f-9ad6-41c4-8251-311b209f9c41",
   "metadata": {},
   "outputs": [],
   "source": [
    "wetting_snapshot = surface.hoomd_snapshot\n",
    "wetting_forcefield = surface.hoomd_forcefield"
   ]
  },
  {
   "cell_type": "markdown",
   "source": [
    "Let's visualize the new snapshot containing the droplet and surface particles:"
   ],
   "metadata": {
    "collapsed": false
   }
  },
  {
   "cell_type": "code",
   "execution_count": null,
   "outputs": [],
   "source": [
    "# add code for visualization of wetting_snapshot"
   ],
   "metadata": {
    "collapsed": false
   }
  },
  {
   "cell_type": "markdown",
   "source": [
    "## Step 4: Run wetting simulation\n",
    "\n",
    "The `WettingSimulation` class from the `flowermd.modules.surface_wetting` module runs the wetting simulation. The `WettingSimulation` class is a subclass of the `Simulation` base class. The `WettingSimulation` class takes the following parameters:\n",
    "- `initial_state`: The snapshot containing the droplet and surface particles.\n",
    "- `forcefield`: The force field containing the droplet and surface force fields.\n",
    "- `fix_surface`: A boolean value that determines whether the surface particles are fixed during the simulation. If `True`, the surface particles are excluded from the integrator, meaning that they will not move during the simulation."
   ],
   "metadata": {
    "collapsed": false
   }
  },
  {
   "cell_type": "code",
   "execution_count": null,
   "outputs": [],
   "source": [
    "from flowermd.modules.surface_wetting import WettingSimulation\n",
    "\n",
    "wetting_sim = WettingSimulation(\n",
    "    initial_state=wetting_snapshot,\n",
    "    forcefield=wetting_forcefield,\n",
    "    fix_surface=True)"
   ],
   "metadata": {
    "collapsed": false
   }
  },
  {
   "cell_type": "markdown",
   "source": [
    "Now we can start the wetting simulation by using the `run_NVT` method. The droplet slowly spreads on the surface, and eventually wets the surface."
   ],
   "metadata": {
    "collapsed": false
   }
  },
  {
   "cell_type": "code",
   "execution_count": null,
   "outputs": [],
   "source": [
    "wetting_sim.run_NVT(kT=2.0, n_steps=1e4, tau_kt=wetting_sim.dt*100)"
   ],
   "metadata": {
    "collapsed": false
   }
  },
  {
   "cell_type": "code",
   "execution_count": null,
   "outputs": [],
   "source": [
    "# add code for visualization of the snapshot"
   ],
   "metadata": {
    "collapsed": false
   }
  },
  {
   "cell_type": "code",
   "execution_count": null,
   "outputs": [],
   "source": [
    "wetting_sim.run_NVT(kT=2.0, n_steps=1e6, tau_kt=wetting_sim.dt*100)"
   ],
   "metadata": {
    "collapsed": false
   }
  },
  {
   "cell_type": "code",
   "execution_count": null,
   "outputs": [],
   "source": [
    "# add code for visualization of the snapshot"
   ],
   "metadata": {
    "collapsed": false
   }
  }
 ],
 "metadata": {
  "kernelspec": {
   "display_name": "Python 3 (ipykernel)",
   "language": "python",
   "name": "python3"
  },
  "language_info": {
   "codemirror_mode": {
    "name": "ipython",
    "version": 3
   },
   "file_extension": ".py",
   "mimetype": "text/x-python",
   "name": "python",
   "nbconvert_exporter": "python",
   "pygments_lexer": "ipython3",
   "version": "3.11.6"
  }
 },
 "nbformat": 4,
 "nbformat_minor": 5
}
