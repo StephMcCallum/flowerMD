{
 "cells": [
  {
   "cell_type": "markdown",
   "id": "1bc89047",
   "metadata": {
    "collapsed": false,
    "jupyter": {
     "outputs_hidden": false
    }
   },
   "source": [
    "# Running a Surface wetting Workflow with flowerMD"
   ]
  },
  {
   "cell_type": "markdown",
   "id": "b387f315",
   "metadata": {
    "collapsed": false,
    "jupyter": {
     "outputs_hidden": false
    }
   },
   "source": [
    "## Overview:\n",
    "\n",
    "This notebook demonstrates how to run a surface wetting workflow with flowerMD. For demonstration purposes, we will create a Poly(ethylene) droplet on a graphene surface. The workflow consists of the following steps:\n",
    "\n",
    "1. Create a droplet of the polymer melt\n",
    "2. Create a graphene surface\n",
    "3. Combine the droplet and surface into a single system\n",
    "4. Run wetting simulation"
   ]
  },
  {
   "cell_type": "markdown",
   "id": "50052606",
   "metadata": {
    "collapsed": false,
    "jupyter": {
     "outputs_hidden": false
    }
   },
   "source": [
    "## Step 1: Create a droplet\n",
    "\n",
    "Let's start by creating a Poly(ethylene) droplet. We will use the `PolyEthylene` class from the `flowermd.library.polymers` module to create a Poly(ethylene) melt. We will then use the `Pack` class from the `flowermd.base.system` module to create the system.\n",
    "\n",
    "Next step is to start the droplet simulation by using the `DropletSimulation` class from the `flowermd.modules.surface_wetting` module. We will use the `DropletSimulation.from_system` method to create the simulation object from the system object. This method will automatically create the simulation object with the correct parameters for the droplet simulation."
   ]
  },
  {
   "cell_type": "code",
   "execution_count": 26,
   "id": "a5c5578f",
   "metadata": {
    "collapsed": false,
    "jupyter": {
     "outputs_hidden": false
    }
   },
   "outputs": [
    {
     "ename": "ModuleNotFoundError",
     "evalue": "No module named 'cmeutils.visualize'",
     "output_type": "error",
     "traceback": [
      "\u001b[0;31m---------------------------------------------------------------------------\u001b[0m",
      "\u001b[0;31mModuleNotFoundError\u001b[0m                       Traceback (most recent call last)",
      "Cell \u001b[0;32mIn[26], line 1\u001b[0m\n\u001b[0;32m----> 1\u001b[0m \u001b[38;5;28;01mfrom\u001b[39;00m \u001b[38;5;21;01mcmeutils\u001b[39;00m\u001b[38;5;21;01m.\u001b[39;00m\u001b[38;5;21;01mvisualize\u001b[39;00m \u001b[38;5;28;01mimport\u001b[39;00m FresnelGSD\n\u001b[1;32m      2\u001b[0m \u001b[38;5;28;01mimport\u001b[39;00m \u001b[38;5;21;01mwarnings\u001b[39;00m\n\u001b[1;32m      4\u001b[0m warnings\u001b[38;5;241m.\u001b[39mfilterwarnings(\u001b[38;5;124m'\u001b[39m\u001b[38;5;124mignore\u001b[39m\u001b[38;5;124m'\u001b[39m)\n",
      "\u001b[0;31mModuleNotFoundError\u001b[0m: No module named 'cmeutils.visualize'"
     ]
    }
   ],
   "source": [
    "from cmeutils.visualize import FresnelGSD\n",
    "import warnings\n",
    "\n",
    "warnings.filterwarnings('ignore')"
   ]
  },
  {
   "cell_type": "code",
   "execution_count": null,
   "id": "03fb3c31-28c5-4520-a85e-b9828f20c2e4",
   "metadata": {},
   "outputs": [],
   "source": [
    "from flowermd.base.system import Pack\n",
    "from flowermd.library.polymers import PolyEthylene\n",
    "from flowermd.library.forcefields import OPLS_AA"
   ]
  },
  {
   "cell_type": "code",
   "execution_count": 24,
   "id": "620ce655-2c44-43a8-9a7a-2cedc148ff99",
   "metadata": {
    "scrolled": true
   },
   "outputs": [
    {
     "name": "stderr",
     "output_type": "stream",
     "text": [
      "\n",
      "KeyboardInterrupt\n",
      "\n"
     ]
    }
   ],
   "source": [
    "%%time\n",
    "polyethylene = PolyEthylene(num_mols=70, lengths=25)\n",
    "droplet_system = Pack(molecules=polyethylene, density=1.0)\n",
    "droplet_system.apply_forcefield(\n",
    "    force_field=OPLS_AA(), \n",
    "    remove_charges=True,         \n",
    "    remove_hydrogens=True, \n",
    "    auto_scale=True,\n",
    "    r_cut=2.5\n",
    ")"
   ]
  },
  {
   "cell_type": "code",
   "execution_count": null,
   "id": "18fa1f94-d803-4c52-b9ca-cb081fb28953",
   "metadata": {},
   "outputs": [],
   "source": [
    "from flowermd.modules.surface_wetting import DropletSimulation\n",
    "\n",
    "droplet_sim = DropletSimulation.from_system(\n",
    "    droplet_system,\n",
    "    gsd_file_name=\"droplet_trajectory.gsd\",\n",
    "    log_file_name=\"droplet_sim_data.txt\"\n",
    ")"
   ]
  },
  {
   "cell_type": "markdown",
   "id": "e0095630-28f9-4dad-bebf-8257f6fa46ee",
   "metadata": {},
   "source": [
    "**Run the droplet simulation:**\n",
    "\n",
    "The `run_droplet` method runs the droplet simulation. The method takes the following steps:\n",
    "1. Shrink the box to a high density at a high temperature. This allows the polymer chains to pack tightly.\n",
    "2. Expand the box to a low density at a low temperature. This allows the polymer chains to relax and form a droplet.\n",
    "3. Hold the box at a low density at a low temperature. This allows the droplet to equilibrate."
   ]
  },
  {
   "cell_type": "code",
   "execution_count": null,
   "id": "d7b0cc44-de5e-42b0-b594-30f9d94e11ce",
   "metadata": {},
   "outputs": [],
   "source": [
    "%%time\n",
    "droplet_sim.run_droplet(\n",
    "    tau_kt=droplet_sim.dt * 100,\n",
    "    shrink_kT=5.0,\n",
    "    shrink_steps=1e6,\n",
    "    shrink_period=1000,\n",
    "    shrink_density=1.4,\n",
    "    expand_kT=0.5,\n",
    "    expand_steps=2e6,\n",
    "    expand_period=1000,\n",
    "    hold_kT=0.5,\n",
    "    hold_steps=1e5,\n",
    "    final_density=0.05\n",
    ")\n",
    "droplet_sim.flush_writers()"
   ]
  },
  {
   "cell_type": "markdown",
   "id": "09bfd711-ba7b-4119-a3d8-d99db21f4b1f",
   "metadata": {},
   "source": [
    "<div class=\"alert alert-block alert-warning\"><b>Warning:</b> Due to the large system size, the above cells take approximately 30 minutes to run.</div>"
   ]
  },
  {
   "cell_type": "markdown",
   "id": "4bd62f83",
   "metadata": {
    "collapsed": false,
    "jupyter": {
     "outputs_hidden": false
    }
   },
   "source": [
    "<div class=\"alert alert-block alert-info\"> <b>Note:</b> In order to reach the perfect droplet shape, you might need to try different parameters (e.g. system size, density, and temperatures) and check the trajectory to see if the droplet is forming.\n",
    "</div>\n"
   ]
  },
  {
   "cell_type": "markdown",
   "id": "e1400370-a30a-4d33-a625-bf000a499846",
   "metadata": {},
   "source": [
    "For demonstration purposes and to save time, we will use the pre-run droplet simulation snapshot and forcefield for the above system, saved in the `data` directory."
   ]
  },
  {
   "cell_type": "code",
   "execution_count": 25,
   "id": "c0b0f2c7",
   "metadata": {
    "collapsed": false,
    "jupyter": {
     "outputs_hidden": false
    }
   },
   "outputs": [],
   "source": [
    "import gsd.hoomd\n",
    "import pickle\n",
    "\n",
    "droplet_snapshot = gsd.hoomd.open('data/polyethylene_droplet.gsd')[0]\n",
    "with open(\"data/polyethylene_forcefield.pickle\", \"rb\") as f:\n",
    "    droplet_ff = pickle.load(f)\n"
   ]
  },
  {
   "cell_type": "markdown",
   "id": "444a22c1",
   "metadata": {
    "collapsed": false,
    "jupyter": {
     "outputs_hidden": false
    }
   },
   "source": [
    "Here is a visualization of the droplet:"
   ]
  },
  {
   "cell_type": "code",
   "execution_count": null,
   "id": "9893f59d",
   "metadata": {
    "collapsed": false,
    "jupyter": {
     "outputs_hidden": false
    }
   },
   "outputs": [],
   "source": [
    "sim_viewer = FresnelGSD(gsd_file=\"data/polyethylene_droplet.gsd\", view_axis=(0, 1, 0), frame=-1)\n",
    "sim_viewer.view()"
   ]
  },
  {
   "cell_type": "markdown",
   "id": "29c97387",
   "metadata": {
    "collapsed": false,
    "jupyter": {
     "outputs_hidden": false
    }
   },
   "source": [
    "## Step 2: Create a graphene surface\n",
    "\n",
    "We will use the `Graphene` class from the `flowermd.library.surfaces` to create a graphene surface. The size of the graphene surface is determined by the `x_repeat` and `y_repeat` parameters, which determine the number of unit cells in the x and y directions, respectively.  The `n_layers` parameter determines the number of graphene layers.\n",
    "This class is a subclass of `System` base class, so we can use the `apply_forcefield` method to apply the force field to the graphene surface."
   ]
  },
  {
   "cell_type": "markdown",
   "id": "ee7d0ebc",
   "metadata": {
    "collapsed": false,
    "jupyter": {
     "outputs_hidden": false
    }
   },
   "source": [
    "**Note**: We are using the droplet system's reference values to scale the graphene surface. This ensures that the graphene surface and the droplet system have the same units. Make sure to set the `auto_scale` parameter to `False` when applying the force field to the graphene surface."
   ]
  },
  {
   "cell_type": "code",
   "execution_count": 5,
   "id": "1a685c3d-ba9f-4db9-9aee-02e61526e2f0",
   "metadata": {
    "scrolled": true
   },
   "outputs": [
    {
     "ename": "KeyboardInterrupt",
     "evalue": "",
     "output_type": "error",
     "traceback": [
      "\u001b[0;31m---------------------------------------------------------------------------\u001b[0m",
      "\u001b[0;31mKeyboardInterrupt\u001b[0m                         Traceback (most recent call last)",
      "Cell \u001b[0;32mIn[5], line 2\u001b[0m\n\u001b[1;32m      1\u001b[0m graphene \u001b[38;5;241m=\u001b[39m Graphene(x_repeat\u001b[38;5;241m=\u001b[39m\u001b[38;5;241m20\u001b[39m, y_repeat\u001b[38;5;241m=\u001b[39m\u001b[38;5;241m20\u001b[39m, n_layers\u001b[38;5;241m=\u001b[39m\u001b[38;5;241m1\u001b[39m)\n\u001b[0;32m----> 2\u001b[0m \u001b[43mgraphene\u001b[49m\u001b[38;5;241;43m.\u001b[39;49m\u001b[43mapply_forcefield\u001b[49m\u001b[43m(\u001b[49m\u001b[43mforce_field\u001b[49m\u001b[38;5;241;43m=\u001b[39;49m\u001b[43mOPLS_AA\u001b[49m\u001b[43m(\u001b[49m\u001b[43m)\u001b[49m\u001b[43m,\u001b[49m\u001b[43m \u001b[49m\u001b[43mremove_charges\u001b[49m\u001b[38;5;241;43m=\u001b[39;49m\u001b[38;5;28;43;01mTrue\u001b[39;49;00m\u001b[43m,\u001b[49m\u001b[43m \u001b[49m\u001b[43mauto_scale\u001b[49m\u001b[38;5;241;43m=\u001b[39;49m\u001b[38;5;28;43;01mTrue\u001b[39;49;00m\u001b[43m,\u001b[49m\u001b[43m \u001b[49m\u001b[43mr_cut\u001b[49m\u001b[38;5;241;43m=\u001b[39;49m\u001b[38;5;241;43m2.\u001b[39;49m\u001b[43m)\u001b[49m\n",
      "File \u001b[0;32m~/Documents/code-base/flowerMD/flowermd/base/system.py:573\u001b[0m, in \u001b[0;36mSystem.apply_forcefield\u001b[0;34m(self, r_cut, force_field, auto_scale, scale_charges, remove_charges, remove_hydrogens, pppm_resolution, pppm_order, nlist_buffer)\u001b[0m\n\u001b[1;32m    569\u001b[0m \u001b[38;5;28;01mif\u001b[39;00m \u001b[38;5;28mself\u001b[39m\u001b[38;5;241m.\u001b[39m_gmso_forcefields_dict:\n\u001b[1;32m    570\u001b[0m     \u001b[38;5;66;03m# assign names to all the gmso sites based on mol_type to\u001b[39;00m\n\u001b[1;32m    571\u001b[0m     \u001b[38;5;66;03m# match the keys in self._gmso_forcefields_dict before applying ff\u001b[39;00m\n\u001b[1;32m    572\u001b[0m     \u001b[38;5;28mself\u001b[39m\u001b[38;5;241m.\u001b[39m_assign_site_mol_type_idx()\n\u001b[0;32m--> 573\u001b[0m \u001b[38;5;28mself\u001b[39m\u001b[38;5;241m.\u001b[39mgmso_system \u001b[38;5;241m=\u001b[39m \u001b[43mapply\u001b[49m\u001b[43m(\u001b[49m\n\u001b[1;32m    574\u001b[0m \u001b[43m    \u001b[49m\u001b[38;5;28;43mself\u001b[39;49m\u001b[38;5;241;43m.\u001b[39;49m\u001b[43mgmso_system\u001b[49m\u001b[43m,\u001b[49m\n\u001b[1;32m    575\u001b[0m \u001b[43m    \u001b[49m\u001b[38;5;28;43mself\u001b[39;49m\u001b[38;5;241;43m.\u001b[39;49m\u001b[43m_gmso_forcefields_dict\u001b[49m\u001b[43m,\u001b[49m\n\u001b[1;32m    576\u001b[0m \u001b[43m    \u001b[49m\u001b[43mmatch_ff_by\u001b[49m\u001b[38;5;241;43m=\u001b[39;49m\u001b[38;5;124;43m\"\u001b[39;49m\u001b[38;5;124;43mgroup\u001b[39;49m\u001b[38;5;124;43m\"\u001b[39;49m\u001b[43m,\u001b[49m\n\u001b[1;32m    577\u001b[0m \u001b[43m    \u001b[49m\u001b[43midentify_connections\u001b[49m\u001b[38;5;241;43m=\u001b[39;49m\u001b[38;5;28;43;01mTrue\u001b[39;49;00m\u001b[43m,\u001b[49m\n\u001b[1;32m    578\u001b[0m \u001b[43m    \u001b[49m\u001b[43mspeedup_by_moltag\u001b[49m\u001b[38;5;241;43m=\u001b[39;49m\u001b[38;5;28;43;01mTrue\u001b[39;49;00m\u001b[43m,\u001b[49m\n\u001b[1;32m    579\u001b[0m \u001b[43m    \u001b[49m\u001b[43mspeedup_by_molgraph\u001b[49m\u001b[38;5;241;43m=\u001b[39;49m\u001b[38;5;28;43;01mFalse\u001b[39;49;00m\u001b[43m,\u001b[49m\n\u001b[1;32m    580\u001b[0m \u001b[43m\u001b[49m\u001b[43m)\u001b[49m\n\u001b[1;32m    582\u001b[0m \u001b[38;5;28;01mif\u001b[39;00m remove_charges:\n\u001b[1;32m    583\u001b[0m     \u001b[38;5;28;01mfor\u001b[39;00m site \u001b[38;5;129;01min\u001b[39;00m \u001b[38;5;28mself\u001b[39m\u001b[38;5;241m.\u001b[39mgmso_system\u001b[38;5;241m.\u001b[39msites:\n",
      "File \u001b[0;32m~/anaconda3/envs/flowermd/lib/python3.11/site-packages/gmso/parameterization/parameterize.py:91\u001b[0m, in \u001b[0;36mapply\u001b[0;34m(top, forcefields, match_ff_by, identify_connections, speedup_by_molgraph, speedup_by_moltag, ignore_params, remove_untyped, fast_copy)\u001b[0m\n\u001b[1;32m     76\u001b[0m config \u001b[38;5;241m=\u001b[39m TopologyParameterizationConfig\u001b[38;5;241m.\u001b[39mparse_obj(\n\u001b[1;32m     77\u001b[0m     \u001b[38;5;28mdict\u001b[39m(\n\u001b[1;32m     78\u001b[0m         match_ff_by\u001b[38;5;241m=\u001b[39mmatch_ff_by,\n\u001b[0;32m   (...)\u001b[0m\n\u001b[1;32m     85\u001b[0m     )\n\u001b[1;32m     86\u001b[0m )\n\u001b[1;32m     87\u001b[0m parameterizer \u001b[38;5;241m=\u001b[39m TopologyParameterizer(\n\u001b[1;32m     88\u001b[0m     topology\u001b[38;5;241m=\u001b[39mtop, forcefields\u001b[38;5;241m=\u001b[39mforcefields, config\u001b[38;5;241m=\u001b[39mconfig\n\u001b[1;32m     89\u001b[0m )\n\u001b[0;32m---> 91\u001b[0m \u001b[43mparameterizer\u001b[49m\u001b[38;5;241;43m.\u001b[39;49m\u001b[43mrun_parameterization\u001b[49m\u001b[43m(\u001b[49m\u001b[43m)\u001b[49m\n\u001b[1;32m     93\u001b[0m \u001b[38;5;28;01mreturn\u001b[39;00m parameterizer\u001b[38;5;241m.\u001b[39mtopology\n",
      "File \u001b[0;32m~/anaconda3/envs/flowermd/lib/python3.11/site-packages/gmso/parameterization/topology_parameterizer.py:335\u001b[0m, in \u001b[0;36mTopologyParameterizer.run_parameterization\u001b[0;34m(self)\u001b[0m\n\u001b[1;32m    330\u001b[0m             warnings\u001b[38;5;241m.\u001b[39mwarn(\n\u001b[1;32m    331\u001b[0m                 \u001b[38;5;124mf\u001b[39m\u001b[38;5;124m\"\u001b[39m\u001b[38;5;124mGroup/molecule \u001b[39m\u001b[38;5;132;01m{\u001b[39;00mlabel\u001b[38;5;132;01m}\u001b[39;00m\u001b[38;5;124m will not be parameterized, as the forcefield to parameterize it \u001b[39m\u001b[38;5;124m\"\u001b[39m\n\u001b[1;32m    332\u001b[0m                 \u001b[38;5;124mf\u001b[39m\u001b[38;5;124m\"\u001b[39m\u001b[38;5;124mis missing.\u001b[39m\u001b[38;5;124m\"\u001b[39m\n\u001b[1;32m    333\u001b[0m             )  \u001b[38;5;66;03m# FixMe: Will warning be enough?\u001b[39;00m\n\u001b[1;32m    334\u001b[0m         \u001b[38;5;28;01melse\u001b[39;00m:\n\u001b[0;32m--> 335\u001b[0m             typemap \u001b[38;5;241m=\u001b[39m \u001b[38;5;28;43mself\u001b[39;49m\u001b[38;5;241;43m.\u001b[39;49m\u001b[43m_get_atomtypes\u001b[49m\u001b[43m(\u001b[49m\n\u001b[1;32m    336\u001b[0m \u001b[43m                \u001b[49m\u001b[38;5;28;43mself\u001b[39;49m\u001b[38;5;241;43m.\u001b[39;49m\u001b[43mget_ff\u001b[49m\u001b[43m(\u001b[49m\u001b[43mlabel\u001b[49m\u001b[43m)\u001b[49m\u001b[43m,\u001b[49m\n\u001b[1;32m    337\u001b[0m \u001b[43m                \u001b[49m\u001b[38;5;28;43mself\u001b[39;49m\u001b[38;5;241;43m.\u001b[39;49m\u001b[43mtopology\u001b[49m\u001b[43m,\u001b[49m\n\u001b[1;32m    338\u001b[0m \u001b[43m                \u001b[49m\u001b[38;5;28;43mself\u001b[39;49m\u001b[38;5;241;43m.\u001b[39;49m\u001b[43mconfig\u001b[49m\u001b[38;5;241;43m.\u001b[39;49m\u001b[43mmatch_ff_by\u001b[49m\u001b[43m,\u001b[49m\n\u001b[1;32m    339\u001b[0m \u001b[43m                \u001b[49m\u001b[43mlabel\u001b[49m\u001b[43m,\u001b[49m\n\u001b[1;32m    340\u001b[0m \u001b[43m                \u001b[49m\u001b[38;5;28;43mself\u001b[39;49m\u001b[38;5;241;43m.\u001b[39;49m\u001b[43mconfig\u001b[49m\u001b[38;5;241;43m.\u001b[39;49m\u001b[43mspeedup_by_moltag\u001b[49m\u001b[43m,\u001b[49m\n\u001b[1;32m    341\u001b[0m \u001b[43m                \u001b[49m\u001b[38;5;28;43mself\u001b[39;49m\u001b[38;5;241;43m.\u001b[39;49m\u001b[43mconfig\u001b[49m\u001b[38;5;241;43m.\u001b[39;49m\u001b[43mspeedup_by_molgraph\u001b[49m\u001b[43m,\u001b[49m\n\u001b[1;32m    342\u001b[0m \u001b[43m            \u001b[49m\u001b[43m)\u001b[49m\n\u001b[1;32m    343\u001b[0m             \u001b[38;5;28mself\u001b[39m\u001b[38;5;241m.\u001b[39m_parameterize(\n\u001b[1;32m    344\u001b[0m                 \u001b[38;5;28mself\u001b[39m\u001b[38;5;241m.\u001b[39mtopology,\n\u001b[1;32m    345\u001b[0m                 typemap,\n\u001b[0;32m   (...)\u001b[0m\n\u001b[1;32m    348\u001b[0m                 speedup_by_moltag\u001b[38;5;241m=\u001b[39m\u001b[38;5;28mself\u001b[39m\u001b[38;5;241m.\u001b[39mconfig\u001b[38;5;241m.\u001b[39mspeedup_by_moltag,  \u001b[38;5;66;03m# This will be removed from the future iterations\u001b[39;00m\n\u001b[1;32m    349\u001b[0m             )\n\u001b[1;32m    350\u001b[0m \u001b[38;5;28;01melse\u001b[39;00m:\n",
      "File \u001b[0;32m~/anaconda3/envs/flowermd/lib/python3.11/site-packages/gmso/parameterization/topology_parameterizer.py:426\u001b[0m, in \u001b[0;36mTopologyParameterizer._get_atomtypes\u001b[0;34m(forcefield, topology, label_type, label, speedup_by_moltag, use_isomorphic_checks)\u001b[0m\n\u001b[1;32m    423\u001b[0m molecule \u001b[38;5;241m=\u001b[39m subgraph\u001b[38;5;241m.\u001b[39mnodes[nodes_idx[\u001b[38;5;241m0\u001b[39m]][\u001b[38;5;124m\"\u001b[39m\u001b[38;5;124matom_data\u001b[39m\u001b[38;5;124m\"\u001b[39m]\u001b[38;5;241m.\u001b[39mmolecule\n\u001b[1;32m    424\u001b[0m \u001b[38;5;28;01mif\u001b[39;00m molecule \u001b[38;5;129;01mnot\u001b[39;00m \u001b[38;5;129;01min\u001b[39;00m reference:\n\u001b[1;32m    425\u001b[0m     reference[molecule] \u001b[38;5;241m=\u001b[39m {\n\u001b[0;32m--> 426\u001b[0m         \u001b[38;5;124m\"\u001b[39m\u001b[38;5;124mtypemap\u001b[39m\u001b[38;5;124m\"\u001b[39m: \u001b[43mtypemap_dict\u001b[49m\u001b[43m(\u001b[49m\n\u001b[1;32m    427\u001b[0m \u001b[43m            \u001b[49m\u001b[43matomtyping_rules_provider\u001b[49m\u001b[38;5;241;43m=\u001b[39;49m\u001b[43matom_typing_rules_provider\u001b[49m\u001b[43m,\u001b[49m\n\u001b[1;32m    428\u001b[0m \u001b[43m            \u001b[49m\u001b[43mtopology_graph\u001b[49m\u001b[38;5;241;43m=\u001b[39;49m\u001b[43msubgraph\u001b[49m\u001b[43m,\u001b[49m\n\u001b[1;32m    429\u001b[0m \u001b[43m        \u001b[49m\u001b[43m)\u001b[49m,\n\u001b[1;32m    430\u001b[0m         \u001b[38;5;124m\"\u001b[39m\u001b[38;5;124mgraph\u001b[39m\u001b[38;5;124m\"\u001b[39m: subgraph,\n\u001b[1;32m    431\u001b[0m     }\n\u001b[1;32m    432\u001b[0m     typemap\u001b[38;5;241m.\u001b[39mupdate(reference[molecule][\u001b[38;5;124m\"\u001b[39m\u001b[38;5;124mtypemap\u001b[39m\u001b[38;5;124m\"\u001b[39m])\n\u001b[1;32m    433\u001b[0m \u001b[38;5;28;01melse\u001b[39;00m:\n",
      "File \u001b[0;32m~/anaconda3/envs/flowermd/lib/python3.11/site-packages/gmso/parameterization/foyer_utils.py:123\u001b[0m, in \u001b[0;36mtypemap_dict\u001b[0;34m(topology_graph, atomtyping_rules_provider, max_iter)\u001b[0m\n\u001b[1;32m    121\u001b[0m \u001b[38;5;28;01mdef\u001b[39;00m \u001b[38;5;21mtypemap_dict\u001b[39m(topology_graph, atomtyping_rules_provider, max_iter\u001b[38;5;241m=\u001b[39m\u001b[38;5;241m10\u001b[39m):\n\u001b[1;32m    122\u001b[0m \u001b[38;5;250m    \u001b[39m\u001b[38;5;124;03m\"\"\"Return a dictionary of typemap, by finding atomtypes in foyer.\"\"\"\u001b[39;00m\n\u001b[0;32m--> 123\u001b[0m     \u001b[38;5;28;01mreturn\u001b[39;00m \u001b[43mfind_atomtypes\u001b[49m\u001b[43m(\u001b[49m\u001b[43mtopology_graph\u001b[49m\u001b[43m,\u001b[49m\u001b[43m \u001b[49m\u001b[43matomtyping_rules_provider\u001b[49m\u001b[43m,\u001b[49m\u001b[43m \u001b[49m\u001b[43mmax_iter\u001b[49m\u001b[43m)\u001b[49m\n",
      "File \u001b[0;32m~/anaconda3/envs/flowermd/lib/python3.11/site-packages/foyer/atomtyper.py:148\u001b[0m, in \u001b[0;36mfind_atomtypes\u001b[0;34m(structure, forcefield, max_iter)\u001b[0m\n\u001b[1;32m    145\u001b[0m         subrules[key] \u001b[38;5;241m=\u001b[39m val\n\u001b[1;32m    146\u001b[0m rules \u001b[38;5;241m=\u001b[39m subrules\n\u001b[0;32m--> 148\u001b[0m \u001b[43m_iterate_rules\u001b[49m\u001b[43m(\u001b[49m\u001b[43mrules\u001b[49m\u001b[43m,\u001b[49m\u001b[43m \u001b[49m\u001b[43mtopology_graph\u001b[49m\u001b[43m,\u001b[49m\u001b[43m \u001b[49m\u001b[43mtypemap\u001b[49m\u001b[43m,\u001b[49m\u001b[43m \u001b[49m\u001b[43mmax_iter\u001b[49m\u001b[38;5;241;43m=\u001b[39;49m\u001b[43mmax_iter\u001b[49m\u001b[43m)\u001b[49m\n\u001b[1;32m    149\u001b[0m _resolve_atomtypes(topology_graph, typemap)\n\u001b[1;32m    151\u001b[0m \u001b[38;5;28;01mreturn\u001b[39;00m typemap\n",
      "File \u001b[0;32m~/anaconda3/envs/flowermd/lib/python3.11/site-packages/foyer/atomtyper.py:195\u001b[0m, in \u001b[0;36m_iterate_rules\u001b[0;34m(rules, topology_graph, typemap, max_iter)\u001b[0m\n\u001b[1;32m    193\u001b[0m found_something \u001b[38;5;241m=\u001b[39m \u001b[38;5;28;01mFalse\u001b[39;00m\n\u001b[1;32m    194\u001b[0m \u001b[38;5;28;01mfor\u001b[39;00m rule \u001b[38;5;129;01min\u001b[39;00m rules\u001b[38;5;241m.\u001b[39mvalues():\n\u001b[0;32m--> 195\u001b[0m \u001b[43m    \u001b[49m\u001b[38;5;28;43;01mfor\u001b[39;49;00m\u001b[43m \u001b[49m\u001b[43mmatch_index\u001b[49m\u001b[43m \u001b[49m\u001b[38;5;129;43;01min\u001b[39;49;00m\u001b[43m \u001b[49m\u001b[43mrule\u001b[49m\u001b[38;5;241;43m.\u001b[39;49m\u001b[43mfind_matches\u001b[49m\u001b[43m(\u001b[49m\u001b[43mtopology_graph\u001b[49m\u001b[43m,\u001b[49m\u001b[43m \u001b[49m\u001b[43mtypemap\u001b[49m\u001b[43m)\u001b[49m\u001b[43m:\u001b[49m\n\u001b[1;32m    196\u001b[0m \u001b[43m        \u001b[49m\u001b[43matom\u001b[49m\u001b[43m \u001b[49m\u001b[38;5;241;43m=\u001b[39;49m\u001b[43m \u001b[49m\u001b[43mtypemap\u001b[49m\u001b[43m[\u001b[49m\u001b[43mmatch_index\u001b[49m\u001b[43m]\u001b[49m\n\u001b[1;32m    197\u001b[0m \u001b[43m        \u001b[49m\u001b[38;5;66;43;03m# This conditional is not strictly necessary, but it prevents\u001b[39;49;00m\n\u001b[1;32m    198\u001b[0m \u001b[43m        \u001b[49m\u001b[38;5;66;43;03m# redundant set addition on later iterations\u001b[39;49;00m\n",
      "File \u001b[0;32m~/anaconda3/envs/flowermd/lib/python3.11/site-packages/foyer/smarts_graph.py:239\u001b[0m, in \u001b[0;36mSMARTSGraph.find_matches\u001b[0;34m(self, topology_graph, typemap)\u001b[0m\n\u001b[1;32m    230\u001b[0m     \u001b[38;5;28mself\u001b[39m\u001b[38;5;241m.\u001b[39m_graph_matcher \u001b[38;5;241m=\u001b[39m SMARTSMatcher(\n\u001b[1;32m    231\u001b[0m         topology_graph,\n\u001b[1;32m    232\u001b[0m         \u001b[38;5;28mself\u001b[39m,\n\u001b[0;32m   (...)\u001b[0m\n\u001b[1;32m    235\u001b[0m         typemap\u001b[38;5;241m=\u001b[39mtypemap,\n\u001b[1;32m    236\u001b[0m     )\n\u001b[1;32m    238\u001b[0m matched_atoms \u001b[38;5;241m=\u001b[39m \u001b[38;5;28mset\u001b[39m()\n\u001b[0;32m--> 239\u001b[0m \u001b[43m\u001b[49m\u001b[38;5;28;43;01mfor\u001b[39;49;00m\u001b[43m \u001b[49m\u001b[43mmapping\u001b[49m\u001b[43m \u001b[49m\u001b[38;5;129;43;01min\u001b[39;49;00m\u001b[43m \u001b[49m\u001b[38;5;28;43mself\u001b[39;49m\u001b[38;5;241;43m.\u001b[39;49m\u001b[43m_graph_matcher\u001b[49m\u001b[38;5;241;43m.\u001b[39;49m\u001b[43msubgraph_isomorphisms_iter\u001b[49m\u001b[43m(\u001b[49m\u001b[43m)\u001b[49m\u001b[43m:\u001b[49m\n\u001b[1;32m    240\u001b[0m \u001b[43m    \u001b[49m\u001b[43mmapping\u001b[49m\u001b[43m \u001b[49m\u001b[38;5;241;43m=\u001b[39;49m\u001b[43m \u001b[49m\u001b[43m{\u001b[49m\u001b[43mnode_id\u001b[49m\u001b[43m:\u001b[49m\u001b[43m \u001b[49m\u001b[43matom_id\u001b[49m\u001b[43m \u001b[49m\u001b[38;5;28;43;01mfor\u001b[39;49;00m\u001b[43m \u001b[49m\u001b[43matom_id\u001b[49m\u001b[43m,\u001b[49m\u001b[43m \u001b[49m\u001b[43mnode_id\u001b[49m\u001b[43m \u001b[49m\u001b[38;5;129;43;01min\u001b[39;49;00m\u001b[43m \u001b[49m\u001b[43mmapping\u001b[49m\u001b[38;5;241;43m.\u001b[39;49m\u001b[43mitems\u001b[49m\u001b[43m(\u001b[49m\u001b[43m)\u001b[49m\u001b[43m}\u001b[49m\n\u001b[1;32m    241\u001b[0m \u001b[43m    \u001b[49m\u001b[38;5;66;43;03m# The first node in the smarts graph always corresponds to the atom\u001b[39;49;00m\n\u001b[1;32m    242\u001b[0m \u001b[43m    \u001b[49m\u001b[38;5;66;43;03m# that we are trying to match.\u001b[39;49;00m\n",
      "File \u001b[0;32m~/anaconda3/envs/flowermd/lib/python3.11/site-packages/networkx/algorithms/isomorphism/isomorphvf2.py:384\u001b[0m, in \u001b[0;36mGraphMatcher.subgraph_isomorphisms_iter\u001b[0;34m(self)\u001b[0m\n\u001b[1;32m    382\u001b[0m \u001b[38;5;28mself\u001b[39m\u001b[38;5;241m.\u001b[39mtest \u001b[38;5;241m=\u001b[39m \u001b[38;5;124m\"\u001b[39m\u001b[38;5;124msubgraph\u001b[39m\u001b[38;5;124m\"\u001b[39m\n\u001b[1;32m    383\u001b[0m \u001b[38;5;28mself\u001b[39m\u001b[38;5;241m.\u001b[39minitialize()\n\u001b[0;32m--> 384\u001b[0m \u001b[38;5;28;01myield from\u001b[39;00m \u001b[38;5;28mself\u001b[39m\u001b[38;5;241m.\u001b[39mmatch()\n",
      "File \u001b[0;32m~/anaconda3/envs/flowermd/lib/python3.11/site-packages/networkx/algorithms/isomorphism/isomorphvf2.py:316\u001b[0m, in \u001b[0;36mGraphMatcher.match\u001b[0;34m(self)\u001b[0m\n\u001b[1;32m    313\u001b[0m \u001b[38;5;28;01mif\u001b[39;00m \u001b[38;5;28mself\u001b[39m\u001b[38;5;241m.\u001b[39msemantic_feasibility(G1_node, G2_node):\n\u001b[1;32m    314\u001b[0m     \u001b[38;5;66;03m# Recursive call, adding the feasible state.\u001b[39;00m\n\u001b[1;32m    315\u001b[0m     newstate \u001b[38;5;241m=\u001b[39m \u001b[38;5;28mself\u001b[39m\u001b[38;5;241m.\u001b[39mstate\u001b[38;5;241m.\u001b[39m\u001b[38;5;18m__class__\u001b[39m(\u001b[38;5;28mself\u001b[39m, G1_node, G2_node)\n\u001b[0;32m--> 316\u001b[0m     \u001b[38;5;28;01myield from\u001b[39;00m \u001b[38;5;28mself\u001b[39m\u001b[38;5;241m.\u001b[39mmatch()\n\u001b[1;32m    318\u001b[0m     \u001b[38;5;66;03m# restore data structures\u001b[39;00m\n\u001b[1;32m    319\u001b[0m     newstate\u001b[38;5;241m.\u001b[39mrestore()\n",
      "File \u001b[0;32m~/anaconda3/envs/flowermd/lib/python3.11/site-packages/networkx/algorithms/isomorphism/isomorphvf2.py:316\u001b[0m, in \u001b[0;36mGraphMatcher.match\u001b[0;34m(self)\u001b[0m\n\u001b[1;32m    313\u001b[0m \u001b[38;5;28;01mif\u001b[39;00m \u001b[38;5;28mself\u001b[39m\u001b[38;5;241m.\u001b[39msemantic_feasibility(G1_node, G2_node):\n\u001b[1;32m    314\u001b[0m     \u001b[38;5;66;03m# Recursive call, adding the feasible state.\u001b[39;00m\n\u001b[1;32m    315\u001b[0m     newstate \u001b[38;5;241m=\u001b[39m \u001b[38;5;28mself\u001b[39m\u001b[38;5;241m.\u001b[39mstate\u001b[38;5;241m.\u001b[39m\u001b[38;5;18m__class__\u001b[39m(\u001b[38;5;28mself\u001b[39m, G1_node, G2_node)\n\u001b[0;32m--> 316\u001b[0m     \u001b[38;5;28;01myield from\u001b[39;00m \u001b[38;5;28mself\u001b[39m\u001b[38;5;241m.\u001b[39mmatch()\n\u001b[1;32m    318\u001b[0m     \u001b[38;5;66;03m# restore data structures\u001b[39;00m\n\u001b[1;32m    319\u001b[0m     newstate\u001b[38;5;241m.\u001b[39mrestore()\n",
      "    \u001b[0;31m[... skipping similar frames: GraphMatcher.match at line 316 (1 times)]\u001b[0m\n",
      "File \u001b[0;32m~/anaconda3/envs/flowermd/lib/python3.11/site-packages/networkx/algorithms/isomorphism/isomorphvf2.py:316\u001b[0m, in \u001b[0;36mGraphMatcher.match\u001b[0;34m(self)\u001b[0m\n\u001b[1;32m    313\u001b[0m \u001b[38;5;28;01mif\u001b[39;00m \u001b[38;5;28mself\u001b[39m\u001b[38;5;241m.\u001b[39msemantic_feasibility(G1_node, G2_node):\n\u001b[1;32m    314\u001b[0m     \u001b[38;5;66;03m# Recursive call, adding the feasible state.\u001b[39;00m\n\u001b[1;32m    315\u001b[0m     newstate \u001b[38;5;241m=\u001b[39m \u001b[38;5;28mself\u001b[39m\u001b[38;5;241m.\u001b[39mstate\u001b[38;5;241m.\u001b[39m\u001b[38;5;18m__class__\u001b[39m(\u001b[38;5;28mself\u001b[39m, G1_node, G2_node)\n\u001b[0;32m--> 316\u001b[0m     \u001b[38;5;28;01myield from\u001b[39;00m \u001b[38;5;28mself\u001b[39m\u001b[38;5;241m.\u001b[39mmatch()\n\u001b[1;32m    318\u001b[0m     \u001b[38;5;66;03m# restore data structures\u001b[39;00m\n\u001b[1;32m    319\u001b[0m     newstate\u001b[38;5;241m.\u001b[39mrestore()\n",
      "File \u001b[0;32m~/anaconda3/envs/flowermd/lib/python3.11/site-packages/networkx/algorithms/isomorphism/isomorphvf2.py:312\u001b[0m, in \u001b[0;36mGraphMatcher.match\u001b[0;34m(self)\u001b[0m\n\u001b[1;32m    310\u001b[0m \u001b[38;5;28;01melse\u001b[39;00m:\n\u001b[1;32m    311\u001b[0m     \u001b[38;5;28;01mfor\u001b[39;00m G1_node, G2_node \u001b[38;5;129;01min\u001b[39;00m \u001b[38;5;28mself\u001b[39m\u001b[38;5;241m.\u001b[39mcandidate_pairs_iter():\n\u001b[0;32m--> 312\u001b[0m         \u001b[38;5;28;01mif\u001b[39;00m \u001b[38;5;28;43mself\u001b[39;49m\u001b[38;5;241;43m.\u001b[39;49m\u001b[43msyntactic_feasibility\u001b[49m\u001b[43m(\u001b[49m\u001b[43mG1_node\u001b[49m\u001b[43m,\u001b[49m\u001b[43m \u001b[49m\u001b[43mG2_node\u001b[49m\u001b[43m)\u001b[49m:\n\u001b[1;32m    313\u001b[0m             \u001b[38;5;28;01mif\u001b[39;00m \u001b[38;5;28mself\u001b[39m\u001b[38;5;241m.\u001b[39msemantic_feasibility(G1_node, G2_node):\n\u001b[1;32m    314\u001b[0m                 \u001b[38;5;66;03m# Recursive call, adding the feasible state.\u001b[39;00m\n\u001b[1;32m    315\u001b[0m                 newstate \u001b[38;5;241m=\u001b[39m \u001b[38;5;28mself\u001b[39m\u001b[38;5;241m.\u001b[39mstate\u001b[38;5;241m.\u001b[39m\u001b[38;5;18m__class__\u001b[39m(\u001b[38;5;28mself\u001b[39m, G1_node, G2_node)\n",
      "File \u001b[0;32m~/anaconda3/envs/flowermd/lib/python3.11/site-packages/networkx/algorithms/isomorphism/isomorphvf2.py:437\u001b[0m, in \u001b[0;36mGraphMatcher.syntactic_feasibility\u001b[0;34m(self, G1_node, G2_node)\u001b[0m\n\u001b[1;32m    435\u001b[0m         \u001b[38;5;28;01mreturn\u001b[39;00m \u001b[38;5;28;01mFalse\u001b[39;00m\n\u001b[1;32m    436\u001b[0m \u001b[38;5;28;01melse\u001b[39;00m:\n\u001b[0;32m--> 437\u001b[0m     \u001b[38;5;28;01mif\u001b[39;00m \u001b[38;5;28;43mself\u001b[39;49m\u001b[38;5;241;43m.\u001b[39;49m\u001b[43mG1\u001b[49m\u001b[38;5;241;43m.\u001b[39;49m\u001b[43mnumber_of_edges\u001b[49m\u001b[43m(\u001b[49m\u001b[43mG1_node\u001b[49m\u001b[43m,\u001b[49m\u001b[43m \u001b[49m\u001b[43mG1_node\u001b[49m\u001b[43m)\u001b[49m \u001b[38;5;241m!=\u001b[39m \u001b[38;5;28mself\u001b[39m\u001b[38;5;241m.\u001b[39mG2\u001b[38;5;241m.\u001b[39mnumber_of_edges(\n\u001b[1;32m    438\u001b[0m         G2_node, G2_node\n\u001b[1;32m    439\u001b[0m     ):\n\u001b[1;32m    440\u001b[0m         \u001b[38;5;28;01mreturn\u001b[39;00m \u001b[38;5;28;01mFalse\u001b[39;00m\n\u001b[1;32m    442\u001b[0m \u001b[38;5;66;03m# R_neighbor\u001b[39;00m\n\u001b[1;32m    443\u001b[0m \n\u001b[1;32m    444\u001b[0m \u001b[38;5;66;03m# For each neighbor n' of n in the partial mapping, the corresponding\u001b[39;00m\n\u001b[1;32m    445\u001b[0m \u001b[38;5;66;03m# node m' is a neighbor of m, and vice versa. Also, the number of\u001b[39;00m\n\u001b[1;32m    446\u001b[0m \u001b[38;5;66;03m# edges must be equal.\u001b[39;00m\n",
      "File \u001b[0;32m~/anaconda3/envs/flowermd/lib/python3.11/site-packages/networkx/classes/graph.py:1960\u001b[0m, in \u001b[0;36mGraph.number_of_edges\u001b[0;34m(self, u, v)\u001b[0m\n\u001b[1;32m   1958\u001b[0m \u001b[38;5;28;01mif\u001b[39;00m u \u001b[38;5;129;01mis\u001b[39;00m \u001b[38;5;28;01mNone\u001b[39;00m:\n\u001b[1;32m   1959\u001b[0m     \u001b[38;5;28;01mreturn\u001b[39;00m \u001b[38;5;28mint\u001b[39m(\u001b[38;5;28mself\u001b[39m\u001b[38;5;241m.\u001b[39msize())\n\u001b[0;32m-> 1960\u001b[0m \u001b[38;5;28;01mif\u001b[39;00m v \u001b[38;5;129;01min\u001b[39;00m \u001b[38;5;28;43mself\u001b[39;49m\u001b[38;5;241;43m.\u001b[39;49m\u001b[43m_adj\u001b[49m\u001b[43m[\u001b[49m\u001b[43mu\u001b[49m\u001b[43m]\u001b[49m:\n\u001b[1;32m   1961\u001b[0m     \u001b[38;5;28;01mreturn\u001b[39;00m \u001b[38;5;241m1\u001b[39m\n\u001b[1;32m   1962\u001b[0m \u001b[38;5;28;01mreturn\u001b[39;00m \u001b[38;5;241m0\u001b[39m\n",
      "File \u001b[0;32m~/anaconda3/envs/flowermd/lib/python3.11/site-packages/networkx/classes/coreviews.py:319\u001b[0m, in \u001b[0;36mFilterAdjacency.__getitem__\u001b[0;34m(self, node)\u001b[0m\n\u001b[1;32m    316\u001b[0m     \u001b[38;5;28;01mdef\u001b[39;00m \u001b[38;5;21mnew_node_ok\u001b[39m(nbr):\n\u001b[1;32m    317\u001b[0m         \u001b[38;5;28;01mreturn\u001b[39;00m \u001b[38;5;28mself\u001b[39m\u001b[38;5;241m.\u001b[39mNODE_OK(nbr) \u001b[38;5;129;01mand\u001b[39;00m \u001b[38;5;28mself\u001b[39m\u001b[38;5;241m.\u001b[39mEDGE_OK(node, nbr)\n\u001b[0;32m--> 319\u001b[0m     \u001b[38;5;28;01mreturn\u001b[39;00m \u001b[43mFilterAtlas\u001b[49m\u001b[43m(\u001b[49m\u001b[38;5;28;43mself\u001b[39;49m\u001b[38;5;241;43m.\u001b[39;49m\u001b[43m_atlas\u001b[49m\u001b[43m[\u001b[49m\u001b[43mnode\u001b[49m\u001b[43m]\u001b[49m\u001b[43m,\u001b[49m\u001b[43m \u001b[49m\u001b[43mnew_node_ok\u001b[49m\u001b[43m)\u001b[49m\n\u001b[1;32m    320\u001b[0m \u001b[38;5;28;01mraise\u001b[39;00m \u001b[38;5;167;01mKeyError\u001b[39;00m(\u001b[38;5;124mf\u001b[39m\u001b[38;5;124m\"\u001b[39m\u001b[38;5;124mKey \u001b[39m\u001b[38;5;132;01m{\u001b[39;00mnode\u001b[38;5;132;01m}\u001b[39;00m\u001b[38;5;124m not found\u001b[39m\u001b[38;5;124m\"\u001b[39m)\n",
      "File \u001b[0;32m~/anaconda3/envs/flowermd/lib/python3.11/site-packages/networkx/classes/coreviews.py:267\u001b[0m, in \u001b[0;36mFilterAtlas.__init__\u001b[0;34m(self, d, NODE_OK)\u001b[0m\n\u001b[1;32m    266\u001b[0m \u001b[38;5;28;01mclass\u001b[39;00m \u001b[38;5;21;01mFilterAtlas\u001b[39;00m(Mapping):  \u001b[38;5;66;03m# nodedict, nbrdict, keydict\u001b[39;00m\n\u001b[0;32m--> 267\u001b[0m     \u001b[38;5;28;01mdef\u001b[39;00m \u001b[38;5;21m__init__\u001b[39m(\u001b[38;5;28mself\u001b[39m, d, NODE_OK):\n\u001b[1;32m    268\u001b[0m         \u001b[38;5;28mself\u001b[39m\u001b[38;5;241m.\u001b[39m_atlas \u001b[38;5;241m=\u001b[39m d\n\u001b[1;32m    269\u001b[0m         \u001b[38;5;28mself\u001b[39m\u001b[38;5;241m.\u001b[39mNODE_OK \u001b[38;5;241m=\u001b[39m NODE_OK\n",
      "\u001b[0;31mKeyboardInterrupt\u001b[0m: "
     ]
    }
   ],
   "source": [
    "from flowermd.library.surfaces import Graphene\n",
    "\n",
    "graphene = Graphene(\n",
    "    x_repeat=20,\n",
    "    y_repeat=20,\n",
    "    n_layers=2,\n",
    "    base_units=droplet_system.reference_values\n",
    ")\n",
    "graphene.apply_forcefield(\n",
    "    force_field=OPLS_AA(),\n",
    "    remove_charges=True,\n",
    "    auto_scale=False,\n",
    "    r_cut=2.5\n",
    ")"
   ]
  },
  {
   "cell_type": "markdown",
   "id": "f96db611",
   "metadata": {
    "collapsed": false,
    "jupyter": {
     "outputs_hidden": false
    }
   },
   "source": [
    "## Step 3: Combine the droplet and surface systems\n",
    "\n",
    "The `InterfaceBuilder` class from the `flowermd.modules.surface_wetting` module combines the droplet and surface snapshots by placing the droplet particles on top of the surface. The particles are placed in a box with a height equal to the `box_height` parameter. The `gap` parameter determines the distance between the droplet and the surface.\n",
    "\n",
    "This class also combines the force fields of the droplet and surface systems, while also accounting for new LJ interactions between the droplet and surface particles.\n"
   ]
  },
  {
   "cell_type": "code",
   "execution_count": 5,
   "id": "a37a21d6-4185-4ecf-b3c3-112a4436cdae",
   "metadata": {},
   "outputs": [],
   "source": [
    "from flowermd.modules.surface_wetting import InterfaceBuilder\n",
    "import unyt as u\n",
    "\n",
    "surface = InterfaceBuilder(\n",
    "    surface_snapshot=graphene.hoomd_snapshot,\n",
    "    surface_ff=graphene.hoomd_forcefield,\n",
    "    drop_snapshot=droplet_snapshot,\n",
    "    drop_ff=droplet_system.hoomd_forcefield,\n",
    "    drop_ref_values=droplet_system.reference_values,\n",
    "    box_height=15 * u.nm,\n",
    "    gap=0.4 * u.nm\n",
    ")"
   ]
  },
  {
   "cell_type": "markdown",
   "id": "7a854a44",
   "metadata": {
    "collapsed": false,
    "jupyter": {
     "outputs_hidden": false
    }
   },
   "source": [
    "The new snapshot and force field can be accessed using the `hoomd_snapshot` and `hoomd_forcefield` attributes, respectively."
   ]
  },
  {
   "cell_type": "code",
   "execution_count": 8,
   "id": "94cda23f-9ad6-41c4-8251-311b209f9c41",
   "metadata": {},
   "outputs": [],
   "source": [
    "wetting_snapshot = surface.hoomd_snapshot\n",
    "wetting_forcefield = surface.hoomd_forcefield"
   ]
  },
  {
   "cell_type": "code",
   "execution_count": null,
   "id": "1ca51b8c-574a-48ae-a8ae-97995320bdf3",
   "metadata": {},
   "outputs": [],
   "source": [
    "# save the `wetting_snapshot` to a gsd file\n",
    "with gsd.hoomd.open(\"surface_wetting_init.gsd\", \"w\") as traj:\n",
    "    traj.append(surface.hoomd_snapshot)"
   ]
  },
  {
   "cell_type": "markdown",
   "id": "1a776c54",
   "metadata": {
    "collapsed": false,
    "jupyter": {
     "outputs_hidden": false
    }
   },
   "source": [
    "Let's visualize the new snapshot containing the droplet and surface particles:"
   ]
  },
  {
   "cell_type": "code",
   "execution_count": null,
   "id": "e1500802",
   "metadata": {
    "collapsed": false,
    "jupyter": {
     "outputs_hidden": false
    }
   },
   "outputs": [],
   "source": [
    "sim_viewer = FresnelGSD(gsd_file=\"surface_wetting_init.gsd\", view_axis=(0, 1, 0), frame=-1)\n",
    "sim_viewer.view()"
   ]
  },
  {
   "cell_type": "markdown",
   "id": "d938d6b6",
   "metadata": {
    "collapsed": false,
    "jupyter": {
     "outputs_hidden": false
    }
   },
   "source": [
    "## Step 4: Run wetting simulation\n",
    "\n",
    "The `WettingSimulation` class from the `flowermd.modules.surface_wetting` module runs the wetting simulation. The `WettingSimulation` class is a subclass of the `Simulation` base class. The `WettingSimulation` class takes the following parameters:\n",
    "- `initial_state`: The snapshot containing the droplet and surface particles.\n",
    "- `forcefield`: The force field containing the droplet and surface force fields.\n",
    "- `fix_surface`: A boolean value that determines whether the surface particles are fixed during the simulation. If `True`, the surface particles are excluded from the integrator, meaning that they will not move during the simulation."
   ]
  },
  {
   "cell_type": "code",
   "execution_count": null,
   "id": "f383a19b",
   "metadata": {
    "collapsed": false,
    "jupyter": {
     "outputs_hidden": false
    }
   },
   "outputs": [],
   "source": [
    "from flowermd.modules.surface_wetting import WettingSimulation\n",
    "\n",
    "wetting_sim = WettingSimulation(\n",
    "    initial_state=wetting_snapshot,\n",
    "    forcefield=wetting_forcefield,\n",
    "    fix_surface=True,\n",
    "    gsd_file_name=\"wetting_trajectory.gsd\",\n",
    "    log_file_name=\"wetting_sim_data.txt\"\n",
    ")"
   ]
  },
  {
   "cell_type": "markdown",
   "id": "1bad3c08",
   "metadata": {
    "collapsed": false,
    "jupyter": {
     "outputs_hidden": false
    }
   },
   "source": [
    "Now we can start the wetting simulation by using the `run_NVT` method. The droplet slowly spreads on the surface, and eventually wets the surface."
   ]
  },
  {
   "cell_type": "code",
   "execution_count": null,
   "id": "f52398e7",
   "metadata": {
    "collapsed": false,
    "jupyter": {
     "outputs_hidden": false
    }
   },
   "outputs": [],
   "source": [
    "wetting_sim.run_NVT(kT=2.0, n_steps=1e4, tau_kt=wetting_sim.dt*100)\n",
    "wetting_sim.flush_writers()"
   ]
  },
  {
   "cell_type": "code",
   "execution_count": null,
   "id": "adee0c87",
   "metadata": {
    "collapsed": false,
    "jupyter": {
     "outputs_hidden": false
    }
   },
   "outputs": [],
   "source": [
    "sim_viewer = FresnelGSD(gsd_file=\"wetting_trajectory.gsd\", view_axis=(0, 1, 0), frame=-1)\n",
    "sim_viewer.view()"
   ]
  },
  {
   "cell_type": "code",
   "execution_count": null,
   "id": "6509db1e",
   "metadata": {
    "collapsed": false,
    "jupyter": {
     "outputs_hidden": false
    }
   },
   "outputs": [],
   "source": [
    "wetting_sim.run_NVT(kT=2.0, n_steps=1e6, tau_kt=wetting_sim.dt*100)\n",
    "wetting_sim.flush_writers()"
   ]
  },
  {
   "cell_type": "code",
   "execution_count": null,
   "id": "1ce60d1f",
   "metadata": {
    "collapsed": false,
    "jupyter": {
     "outputs_hidden": false
    }
   },
   "outputs": [],
   "source": [
    "sim_viewer = FresnelGSD(gsd_file=\"wetting_trajectory.gsd\", view_axis=(0, 1, 0), frame=-1)\n",
    "sim_viewer.view()"
   ]
  }
 ],
 "metadata": {
  "kernelspec": {
   "display_name": "Python 3 (ipykernel)",
   "language": "python",
   "name": "python3"
  },
  "language_info": {
   "codemirror_mode": {
    "name": "ipython",
    "version": 3
   },
   "file_extension": ".py",
   "mimetype": "text/x-python",
   "name": "python",
   "nbconvert_exporter": "python",
   "pygments_lexer": "ipython3",
   "version": "3.9.18"
  }
 },
 "nbformat": 4,
 "nbformat_minor": 5
}
