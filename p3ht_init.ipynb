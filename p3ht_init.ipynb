{
 "cells": [
  {
   "cell_type": "code",
   "execution_count": 10,
   "id": "176b8dba-0ab6-4722-802e-07d8a3e2a033",
   "metadata": {},
   "outputs": [],
   "source": [
    "from flowermd.base import Molecule, Pack\n",
    "import mbuild as mb"
   ]
  },
  {
   "cell_type": "code",
   "execution_count": 14,
   "id": "0e7451c0-8b86-43c2-ae80-8e9a72995567",
   "metadata": {},
   "outputs": [],
   "source": [
    "def espaloma_mol(file_path):\n",
    "  mol = mb.load(file_path)\n",
    "  for p in mol.particles():\n",
    "    p.name = f\"_{p.name}\"\n",
    "  return mol"
   ]
  },
  {
   "cell_type": "code",
   "execution_count": 15,
   "id": "f4ddeba3-78db-450e-a115-a0235a0621b9",
   "metadata": {},
   "outputs": [
    {
     "name": "stderr",
     "output_type": "stream",
     "text": [
      "/home/marjanalbooyeh/miniconda3/envs/flowermd-new/lib/python3.11/site-packages/mdtraj/core/trajectory.py:441: UserWarning: top= kwargs ignored since this file parser does not support it\n",
      "  warnings.warn(\"top= kwargs ignored since this file parser does not support it\")\n"
     ]
    }
   ],
   "source": [
    "esp_mol = espaloma_mol(\"P3HT.mol2\")"
   ]
  },
  {
   "cell_type": "code",
   "execution_count": 16,
   "id": "ffcfd0af-33ad-47e4-a261-2b8647454775",
   "metadata": {},
   "outputs": [],
   "source": [
    "p3ht = Molecule(num_mols=20, compound=esp_mol)"
   ]
  },
  {
   "cell_type": "code",
   "execution_count": 17,
   "id": "553ecf6d-51a4-4205-a67f-f6281e250338",
   "metadata": {},
   "outputs": [],
   "source": [
    "import unyt\n",
    "system = Pack(molecules=p3ht, density=0.5 * unyt.g/unyt.cm**3)"
   ]
  },
  {
   "cell_type": "code",
   "execution_count": 18,
   "id": "4f6c7c25-1ca7-43c4-bfda-dbd98607040b",
   "metadata": {},
   "outputs": [
    {
     "name": "stderr",
     "output_type": "stream",
     "text": [
      "/home/marjanalbooyeh/miniconda3/envs/flowermd-new/lib/python3.11/site-packages/foyer/forcefield.py:665: UserWarning: Non-atomistic element type detected. Creating custom element for _H5\n",
      "  warnings.warn(\n",
      "/home/marjanalbooyeh/miniconda3/envs/flowermd-new/lib/python3.11/site-packages/foyer/forcefield.py:665: UserWarning: Non-atomistic element type detected. Creating custom element for _H3\n",
      "  warnings.warn(\n",
      "/home/marjanalbooyeh/miniconda3/envs/flowermd-new/lib/python3.11/site-packages/foyer/forcefield.py:665: UserWarning: Non-atomistic element type detected. Creating custom element for _H4\n",
      "  warnings.warn(\n",
      "/home/marjanalbooyeh/miniconda3/envs/flowermd-new/lib/python3.11/site-packages/foyer/forcefield.py:665: UserWarning: Non-atomistic element type detected. Creating custom element for _S2\n",
      "  warnings.warn(\n",
      "/home/marjanalbooyeh/miniconda3/envs/flowermd-new/lib/python3.11/site-packages/foyer/forcefield.py:665: UserWarning: Non-atomistic element type detected. Creating custom element for _C0\n",
      "  warnings.warn(\n",
      "/home/marjanalbooyeh/miniconda3/envs/flowermd-new/lib/python3.11/site-packages/foyer/forcefield.py:665: UserWarning: Non-atomistic element type detected. Creating custom element for _C1\n",
      "  warnings.warn(\n",
      "/home/marjanalbooyeh/miniconda3/envs/flowermd-new/lib/python3.11/site-packages/gmso/core/atom_type.py:236: UserWarning: Masses are assumed to be in units of g/mol\n",
      "  warnings.warn(UNIT_WARNING_STRING.format(\"Masses\", \"g/mol\"))\n",
      "/home/marjanalbooyeh/miniconda3/envs/flowermd-new/lib/python3.11/site-packages/gmso/core/atom_type.py:248: UserWarning: Charges are assumed to be in units of elementary charge\n",
      "  warnings.warn(UNIT_WARNING_STRING.format(\"Charges\", \"elementary charge\"))\n"
     ]
    }
   ],
   "source": [
    "from flowermd.library import FF_from_file\n",
    "p3ht_ff = FF_from_file(forcefield_files=\"P3HT.xml\")"
   ]
  },
  {
   "cell_type": "code",
   "execution_count": 19,
   "id": "a764e66c-0d8f-4dee-ac8f-a4fa414fef8e",
   "metadata": {},
   "outputs": [
    {
     "name": "stderr",
     "output_type": "stream",
     "text": [
      "/home/marjanalbooyeh/miniconda3/envs/flowermd-new/lib/python3.11/site-packages/gmso/core/topology.py:873: UserWarning: An equivalent connection already exists. Providing the existing equivalent Connection.\n",
      "  warnings.warn(\n",
      "/home/marjanalbooyeh/miniconda3/envs/flowermd-new/lib/python3.11/site-packages/gmso/core/forcefield.py:516: UserWarning: ImproperType between atoms C0, C0, H3 and H3 is missing from the ForceField.\n",
      "  warnings.warn(msg)\n",
      "/home/marjanalbooyeh/miniconda3/envs/flowermd-new/lib/python3.11/site-packages/gmso/core/forcefield.py:516: UserWarning: ImproperType between atoms C0, H3, H3 and H3 is missing from the ForceField.\n",
      "  warnings.warn(msg)\n",
      "/home/marjanalbooyeh/miniconda3/envs/flowermd-new/lib/python3.11/site-packages/gmso/core/forcefield.py:516: UserWarning: ImproperType between atoms C0, C0, C0 and H3 is missing from the ForceField.\n",
      "  warnings.warn(msg)\n",
      "/home/marjanalbooyeh/miniconda3/envs/flowermd-new/lib/python3.11/site-packages/gmso/core/forcefield.py:516: UserWarning: ImproperType between atoms C0, C0, C1 and H3 is missing from the ForceField.\n",
      "  warnings.warn(msg)\n",
      "/home/marjanalbooyeh/miniconda3/envs/flowermd-new/lib/python3.11/site-packages/gmso/core/forcefield.py:516: UserWarning: ImproperType between atoms C0, C1, H3 and H3 is missing from the ForceField.\n",
      "  warnings.warn(msg)\n",
      "/home/marjanalbooyeh/miniconda3/envs/flowermd-new/lib/python3.11/site-packages/gmso/core/forcefield.py:516: UserWarning: ImproperType between atoms C1, C0, C1 and C1 is missing from the ForceField.\n",
      "  warnings.warn(msg)\n",
      "/home/marjanalbooyeh/miniconda3/envs/flowermd-new/lib/python3.11/site-packages/gmso/core/forcefield.py:516: UserWarning: ImproperType between atoms C1, C1, S2 and H5 is missing from the ForceField.\n",
      "  warnings.warn(msg)\n",
      "/home/marjanalbooyeh/miniconda3/envs/flowermd-new/lib/python3.11/site-packages/gmso/core/forcefield.py:516: UserWarning: ImproperType between atoms C1, S2, C1 and H5 is missing from the ForceField.\n",
      "  warnings.warn(msg)\n",
      "/home/marjanalbooyeh/miniconda3/envs/flowermd-new/lib/python3.11/site-packages/gmso/core/forcefield.py:516: UserWarning: ImproperType between atoms C1, C1, C1 and H4 is missing from the ForceField.\n",
      "  warnings.warn(msg)\n",
      "/home/marjanalbooyeh/miniconda3/envs/flowermd-new/lib/python3.11/site-packages/gmso/external/convert_hoomd.py:560: UserWarning: Orthorhombic box detected\n",
      "  warnings.warn(\"Orthorhombic box detected\")\n",
      "/home/marjanalbooyeh/miniconda3/envs/flowermd-new/lib/python3.11/site-packages/gmso/external/convert_hoomd.py:123: NotYetImplementedWarning: Only writing particle, bond, sangle, proper and improper dihedral information.Special pairs are not currently written to GSD files\n",
      "  warnings.warn(\n",
      "/home/marjanalbooyeh/miniconda3/envs/flowermd-new/lib/python3.11/site-packages/gmso/external/convert_hoomd.py:280: UserWarning: Shifting coordinates to [-L/2, L/2]\n",
      "  warnings.warn(\"Shifting coordinates to [-L/2, L/2]\")\n",
      "/home/marjanalbooyeh/miniconda3/envs/flowermd-new/lib/python3.11/site-packages/gmso/external/convert_hoomd.py:382: UserWarning: 220 bonds detected\n",
      "  warnings.warn(f\"{top.n_bonds} bonds detected\")\n",
      "/home/marjanalbooyeh/miniconda3/envs/flowermd-new/lib/python3.11/site-packages/gmso/external/convert_hoomd.py:414: UserWarning: 4 unique bond types detected\n",
      "  warnings.warn(f\"{len(unique_bond_types)} unique bond types detected\")\n",
      "/home/marjanalbooyeh/miniconda3/envs/flowermd-new/lib/python3.11/site-packages/gmso/external/convert_hoomd.py:459: UserWarning: 240 angles detected\n",
      "  warnings.warn(f\"{top.n_angles} angles detected\")\n",
      "/home/marjanalbooyeh/miniconda3/envs/flowermd-new/lib/python3.11/site-packages/gmso/external/convert_hoomd.py:460: UserWarning: 6 unique angle types detected\n",
      "  warnings.warn(f\"{len(unique_angle_types)} unique angle types detected\")\n",
      "/home/marjanalbooyeh/miniconda3/envs/flowermd-new/lib/python3.11/site-packages/gmso/external/convert_hoomd.py:505: UserWarning: 260 dihedrals detected\n",
      "  warnings.warn(f\"{top.n_dihedrals} dihedrals detected\")\n",
      "/home/marjanalbooyeh/miniconda3/envs/flowermd-new/lib/python3.11/site-packages/gmso/external/convert_hoomd.py:506: UserWarning: 8 unique dihedral types detected\n",
      "  warnings.warn(f\"{len(unique_dihedral_types)} unique dihedral types detected\")\n"
     ]
    }
   ],
   "source": [
    "system.apply_forcefield(r_cut=2.5, force_field=p3ht_ff, auto_scale=True, remove_hydrogens=True)"
   ]
  },
  {
   "cell_type": "code",
   "execution_count": 22,
   "id": "feb28ce4-4761-4d72-9d6a-a22d0bff331e",
   "metadata": {},
   "outputs": [
    {
     "data": {
      "text/plain": [
       "<gsd.hoomd.Frame at 0x7f45beac0310>"
      ]
     },
     "execution_count": 22,
     "metadata": {},
     "output_type": "execute_result"
    }
   ],
   "source": [
    "system.hoomd_snapshot"
   ]
  },
  {
   "cell_type": "code",
   "execution_count": 23,
   "id": "343313c1-7404-4972-9ce5-8f48c832d85c",
   "metadata": {},
   "outputs": [
    {
     "data": {
      "text/plain": [
       "[<hoomd.md.pair.pair.Ewald at 0x7f45beac3810>,\n",
       " <hoomd.md.long_range.pppm.Coulomb at 0x7f45bea668d0>,\n",
       " <hoomd.md.special_pair.Coulomb at 0x7f45bf449dd0>,\n",
       " <hoomd.md.pair.pair.LJ at 0x7f45d0e494d0>,\n",
       " <hoomd.md.special_pair.LJ at 0x7f45bea4a190>,\n",
       " <hoomd.md.bond.Harmonic at 0x7f45dcbf6350>,\n",
       " <hoomd.md.angle.Harmonic at 0x7f45be9065d0>,\n",
       " <hoomd.md.dihedral.Periodic at 0x7f45bea55a90>,\n",
       " <hoomd.md.dihedral.Periodic at 0x7f45be904150>,\n",
       " <hoomd.md.dihedral.Periodic at 0x7f45bea553d0>,\n",
       " <hoomd.md.dihedral.Periodic at 0x7f45be911790>]"
      ]
     },
     "execution_count": 23,
     "metadata": {},
     "output_type": "execute_result"
    }
   ],
   "source": [
    "system.hoomd_forcefield"
   ]
  },
  {
   "cell_type": "code",
   "execution_count": null,
   "id": "aa0455ce-6cfb-4813-abde-43bc4efec65f",
   "metadata": {},
   "outputs": [],
   "source": []
  }
 ],
 "metadata": {
  "kernelspec": {
   "display_name": "Python 3 (ipykernel)",
   "language": "python",
   "name": "python3"
  },
  "language_info": {
   "codemirror_mode": {
    "name": "ipython",
    "version": 3
   },
   "file_extension": ".py",
   "mimetype": "text/x-python",
   "name": "python",
   "nbconvert_exporter": "python",
   "pygments_lexer": "ipython3",
   "version": "3.11.9"
  }
 },
 "nbformat": 4,
 "nbformat_minor": 5
}
